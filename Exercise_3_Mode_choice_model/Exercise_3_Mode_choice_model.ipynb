{
<<<<<<< Updated upstream
  "cells": [
    {
      "cell_type": "markdown",
      "metadata": {
        "id": "R__DcXTj-zbL"
      },
      "source": [
        "# Exercise 3: Mode choice classification\n",
        "\n",
        "Transportation mode choice is a critical decision-making process that individuals, businesses, and urban planners face daily. It involves selecting the most suitable mode of transportation for a given journey/trip, taking into account factors such as cost, time, convenience, and environmental impact. In this tutorial, we will explore how to address the mode choice problem using classification models.\n",
        "\n",
        "**Key points to cover:**\n",
        "\n",
        "* Mode choice problem;\n",
        "* *Encoding techniques* for categorical variables\n",
        "* Classification models *implementation*\n",
        "* Classification models *evaluation metrics*\n"
      ]
    },
    {
      "cell_type": "code",
      "execution_count": 2,
      "metadata": {
        "id": "121uD1UhQ_-X"
      },
      "outputs": [],
      "source": [
        "import pandas as pd\n",
        "from statistics import mode\n",
        "import numpy as np\n",
        "import os"
      ]
    },
    {
      "cell_type": "markdown",
      "metadata": {
        "id": "08qMPRhP_ci_"
      },
      "source": [
        "## Loading the dataset"
      ]
    },
    {
      "cell_type": "code",
      "execution_count": 3,
      "metadata": {
        "id": "Ap0p7etz_bgX"
      },
      "outputs": [],
      "source": [
        "# The path of the dataset\n",
        "url = 'https://raw.githubusercontent.com/zhenliangma/Applied-AI-in-Transportation/master/Exercise_3_Mode_choice_model/modeChoiceData.csv'\n",
        "# Load the data use the pandas\n",
        "moide_choice_data = pd.read_csv(url)"
      ]
    },
    {
      "cell_type": "markdown",
      "metadata": {
        "id": "ug2z8HSFiFua"
      },
      "source": [
        "## Data Preparation\n",
        "\n",
        "Transform the dataset into a binary classification problem: car vs. rail."
      ]
    },
    {
      "cell_type": "code",
      "execution_count": 4,
      "metadata": {
        "id": "LIXnje53RCM8"
      },
      "outputs": [],
      "source": [
        "mode_choice_car_df = (\n",
        "    moide_choice_data.loc[moide_choice_data[\"choice\"].isin([\"car\", \"rail\"]),\n",
        "     [\"time_car\", \"cost_car\", \"time_rail\", \"cost_rail\", \"access_rail\", \"service_rail\", \"choice\"]]\n",
        "    .reset_index()\n",
        "    .drop(columns=[\"index\"])\n",
        ")"
      ]
    },
    {
      "cell_type": "markdown",
      "metadata": {
        "id": "_J1clfo5oO43"
      },
      "source": [
        "Check the distribution of the classes:"
      ]
    },
    {
      "cell_type": "code",
      "execution_count": 5,
      "metadata": {
        "colab": {
          "base_uri": "https://localhost:8080/",
          "height": 472
        },
        "id": "C1pIrz7voMky",
        "outputId": "a0c35651-1e23-46e5-abcf-a0813aae6853"
      },
      "outputs": [
        {
          "data": {
            "image/png": "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",
            "text/plain": [
              "<Figure size 640x480 with 1 Axes>"
            ]
          },
          "metadata": {},
          "output_type": "display_data"
        }
      ],
      "source": [
        "import seaborn as sns\n",
        "import matplotlib.pyplot as plt\n",
        "\n",
        "# Assuming the classes are stored in a column called 'class'\n",
        "sns.countplot(data=mode_choice_car_df, x='choice')\n",
        "\n",
        "# Add title and labels\n",
        "plt.title('Distribution of Classes')\n",
        "plt.xlabel('Class')\n",
        "plt.ylabel('Count')\n",
        "\n",
        "# Show the plot\n",
        "plt.show()"
      ]
    },
    {
      "cell_type": "code",
      "execution_count": 6,
      "metadata": {
        "colab": {
          "base_uri": "https://localhost:8080/",
          "height": 363
        },
        "id": "jDGQL7Gnoy8C",
        "outputId": "24de7a26-30b8-44c5-9644-486c00e49977"
      },
      "outputs": [
        {
          "data": {
            "application/vnd.google.colaboratory.intrinsic+json": {
              "summary": "{\n  \"name\": \"mode_choice_car_df\",\n  \"rows\": 2266,\n  \"fields\": [\n    {\n      \"column\": \"time_car\",\n      \"properties\": {\n        \"dtype\": \"number\",\n        \"std\": 49,\n        \"min\": 250,\n        \"max\": 390,\n        \"num_unique_values\": 5,\n        \"samples\": [\n          300,\n          345,\n          390\n        ],\n        \"semantic_type\": \"\",\n        \"description\": \"\"\n      }\n    },\n    {\n      \"column\": \"cost_car\",\n      \"properties\": {\n        \"dtype\": \"number\",\n        \"std\": 6,\n        \"min\": 30,\n        \"max\": 50,\n        \"num_unique_values\": 5,\n        \"samples\": [\n          35,\n          30,\n          40\n        ],\n        \"semantic_type\": \"\",\n        \"description\": \"\"\n      }\n    },\n    {\n      \"column\": \"time_rail\",\n      \"properties\": {\n        \"dtype\": \"number\",\n        \"std\": 18,\n        \"min\": 120,\n        \"max\": 170,\n        \"num_unique_values\": 5,\n        \"samples\": [\n          155,\n          130,\n          120\n        ],\n        \"semantic_type\": \"\",\n        \"description\": \"\"\n      }\n    },\n    {\n      \"column\": \"cost_rail\",\n      \"properties\": {\n        \"dtype\": \"number\",\n        \"std\": 14,\n        \"min\": 35,\n        \"max\": 75,\n        \"num_unique_values\": 5,\n        \"samples\": [\n          35,\n          75,\n          65\n        ],\n        \"semantic_type\": \"\",\n        \"description\": \"\"\n      }\n    },\n    {\n      \"column\": \"access_rail\",\n      \"properties\": {\n        \"dtype\": \"number\",\n        \"std\": 7,\n        \"min\": 5,\n        \"max\": 25,\n        \"num_unique_values\": 5,\n        \"samples\": [\n          5,\n          10,\n          20\n        ],\n        \"semantic_type\": \"\",\n        \"description\": \"\"\n      }\n    },\n    {\n      \"column\": \"service_rail\",\n      \"properties\": {\n        \"dtype\": \"category\",\n        \"num_unique_values\": 3,\n        \"samples\": [\n          \"food\",\n          \"no-frills\",\n          \"wifi\"\n        ],\n        \"semantic_type\": \"\",\n        \"description\": \"\"\n      }\n    },\n    {\n      \"column\": \"choice\",\n      \"properties\": {\n        \"dtype\": \"category\",\n        \"num_unique_values\": 2,\n        \"samples\": [\n          \"car\",\n          \"rail\"\n        ],\n        \"semantic_type\": \"\",\n        \"description\": \"\"\n      }\n    }\n  ]\n}",
              "type": "dataframe",
              "variable_name": "mode_choice_car_df"
            },
            "text/html": [
              "\n",
              "  <div id=\"df-f74c6e84-92ed-43fd-a27b-ea0fbf99fe31\" class=\"colab-df-container\">\n",
              "    <div>\n",
              "<style scoped>\n",
              "    .dataframe tbody tr th:only-of-type {\n",
              "        vertical-align: middle;\n",
              "    }\n",
              "\n",
              "    .dataframe tbody tr th {\n",
              "        vertical-align: top;\n",
              "    }\n",
              "\n",
              "    .dataframe thead th {\n",
              "        text-align: right;\n",
              "    }\n",
              "</style>\n",
              "<table border=\"1\" class=\"dataframe\">\n",
              "  <thead>\n",
              "    <tr style=\"text-align: right;\">\n",
              "      <th></th>\n",
              "      <th>time_car</th>\n",
              "      <th>cost_car</th>\n",
              "      <th>time_rail</th>\n",
              "      <th>cost_rail</th>\n",
              "      <th>access_rail</th>\n",
              "      <th>service_rail</th>\n",
              "      <th>choice</th>\n",
              "    </tr>\n",
              "  </thead>\n",
              "  <tbody>\n",
              "    <tr>\n",
              "      <th>0</th>\n",
              "      <td>275</td>\n",
              "      <td>45</td>\n",
              "      <td>170</td>\n",
              "      <td>55</td>\n",
              "      <td>25</td>\n",
              "      <td>food</td>\n",
              "      <td>rail</td>\n",
              "    </tr>\n",
              "    <tr>\n",
              "      <th>1</th>\n",
              "      <td>275</td>\n",
              "      <td>45</td>\n",
              "      <td>155</td>\n",
              "      <td>35</td>\n",
              "      <td>5</td>\n",
              "      <td>no-frills</td>\n",
              "      <td>rail</td>\n",
              "    </tr>\n",
              "    <tr>\n",
              "      <th>2</th>\n",
              "      <td>300</td>\n",
              "      <td>45</td>\n",
              "      <td>155</td>\n",
              "      <td>65</td>\n",
              "      <td>20</td>\n",
              "      <td>no-frills</td>\n",
              "      <td>rail</td>\n",
              "    </tr>\n",
              "    <tr>\n",
              "      <th>3</th>\n",
              "      <td>390</td>\n",
              "      <td>35</td>\n",
              "      <td>155</td>\n",
              "      <td>65</td>\n",
              "      <td>15</td>\n",
              "      <td>food</td>\n",
              "      <td>rail</td>\n",
              "    </tr>\n",
              "    <tr>\n",
              "      <th>4</th>\n",
              "      <td>275</td>\n",
              "      <td>40</td>\n",
              "      <td>155</td>\n",
              "      <td>55</td>\n",
              "      <td>5</td>\n",
              "      <td>food</td>\n",
              "      <td>rail</td>\n",
              "    </tr>\n",
              "    <tr>\n",
              "      <th>5</th>\n",
              "      <td>250</td>\n",
              "      <td>50</td>\n",
              "      <td>120</td>\n",
              "      <td>65</td>\n",
              "      <td>20</td>\n",
              "      <td>wifi</td>\n",
              "      <td>rail</td>\n",
              "    </tr>\n",
              "    <tr>\n",
              "      <th>6</th>\n",
              "      <td>275</td>\n",
              "      <td>30</td>\n",
              "      <td>155</td>\n",
              "      <td>65</td>\n",
              "      <td>25</td>\n",
              "      <td>wifi</td>\n",
              "      <td>car</td>\n",
              "    </tr>\n",
              "    <tr>\n",
              "      <th>7</th>\n",
              "      <td>300</td>\n",
              "      <td>45</td>\n",
              "      <td>170</td>\n",
              "      <td>45</td>\n",
              "      <td>5</td>\n",
              "      <td>no-frills</td>\n",
              "      <td>rail</td>\n",
              "    </tr>\n",
              "    <tr>\n",
              "      <th>8</th>\n",
              "      <td>345</td>\n",
              "      <td>30</td>\n",
              "      <td>140</td>\n",
              "      <td>65</td>\n",
              "      <td>15</td>\n",
              "      <td>no-frills</td>\n",
              "      <td>car</td>\n",
              "    </tr>\n",
              "    <tr>\n",
              "      <th>9</th>\n",
              "      <td>250</td>\n",
              "      <td>40</td>\n",
              "      <td>140</td>\n",
              "      <td>75</td>\n",
              "      <td>20</td>\n",
              "      <td>wifi</td>\n",
              "      <td>car</td>\n",
              "    </tr>\n",
              "  </tbody>\n",
              "</table>\n",
              "</div>\n",
              "    <div class=\"colab-df-buttons\">\n",
              "\n",
              "  <div class=\"colab-df-container\">\n",
              "    <button class=\"colab-df-convert\" onclick=\"convertToInteractive('df-f74c6e84-92ed-43fd-a27b-ea0fbf99fe31')\"\n",
              "            title=\"Convert this dataframe to an interactive table.\"\n",
              "            style=\"display:none;\">\n",
              "\n",
              "  <svg xmlns=\"http://www.w3.org/2000/svg\" height=\"24px\" viewBox=\"0 -960 960 960\">\n",
              "    <path d=\"M120-120v-720h720v720H120Zm60-500h600v-160H180v160Zm220 220h160v-160H400v160Zm0 220h160v-160H400v160ZM180-400h160v-160H180v160Zm440 0h160v-160H620v160ZM180-180h160v-160H180v160Zm440 0h160v-160H620v160Z\"/>\n",
              "  </svg>\n",
              "    </button>\n",
              "\n",
              "  <style>\n",
              "    .colab-df-container {\n",
              "      display:flex;\n",
              "      gap: 12px;\n",
              "    }\n",
              "\n",
              "    .colab-df-convert {\n",
              "      background-color: #E8F0FE;\n",
              "      border: none;\n",
              "      border-radius: 50%;\n",
              "      cursor: pointer;\n",
              "      display: none;\n",
              "      fill: #1967D2;\n",
              "      height: 32px;\n",
              "      padding: 0 0 0 0;\n",
              "      width: 32px;\n",
              "    }\n",
              "\n",
              "    .colab-df-convert:hover {\n",
              "      background-color: #E2EBFA;\n",
              "      box-shadow: 0px 1px 2px rgba(60, 64, 67, 0.3), 0px 1px 3px 1px rgba(60, 64, 67, 0.15);\n",
              "      fill: #174EA6;\n",
              "    }\n",
              "\n",
              "    .colab-df-buttons div {\n",
              "      margin-bottom: 4px;\n",
              "    }\n",
              "\n",
              "    [theme=dark] .colab-df-convert {\n",
              "      background-color: #3B4455;\n",
              "      fill: #D2E3FC;\n",
              "    }\n",
              "\n",
              "    [theme=dark] .colab-df-convert:hover {\n",
              "      background-color: #434B5C;\n",
              "      box-shadow: 0px 1px 3px 1px rgba(0, 0, 0, 0.15);\n",
              "      filter: drop-shadow(0px 1px 2px rgba(0, 0, 0, 0.3));\n",
              "      fill: #FFFFFF;\n",
              "    }\n",
              "  </style>\n",
              "\n",
              "    <script>\n",
              "      const buttonEl =\n",
              "        document.querySelector('#df-f74c6e84-92ed-43fd-a27b-ea0fbf99fe31 button.colab-df-convert');\n",
              "      buttonEl.style.display =\n",
              "        google.colab.kernel.accessAllowed ? 'block' : 'none';\n",
              "\n",
              "      async function convertToInteractive(key) {\n",
              "        const element = document.querySelector('#df-f74c6e84-92ed-43fd-a27b-ea0fbf99fe31');\n",
              "        const dataTable =\n",
              "          await google.colab.kernel.invokeFunction('convertToInteractive',\n",
              "                                                    [key], {});\n",
              "        if (!dataTable) return;\n",
              "\n",
              "        const docLinkHtml = 'Like what you see? Visit the ' +\n",
              "          '<a target=\"_blank\" href=https://colab.research.google.com/notebooks/data_table.ipynb>data table notebook</a>'\n",
              "          + ' to learn more about interactive tables.';\n",
              "        element.innerHTML = '';\n",
              "        dataTable['output_type'] = 'display_data';\n",
              "        await google.colab.output.renderOutput(dataTable, element);\n",
              "        const docLink = document.createElement('div');\n",
              "        docLink.innerHTML = docLinkHtml;\n",
              "        element.appendChild(docLink);\n",
              "      }\n",
              "    </script>\n",
              "  </div>\n",
              "\n",
              "\n",
              "<div id=\"df-32ff3dc8-fa96-43ea-8ece-243b094b5fc4\">\n",
              "  <button class=\"colab-df-quickchart\" onclick=\"quickchart('df-32ff3dc8-fa96-43ea-8ece-243b094b5fc4')\"\n",
              "            title=\"Suggest charts\"\n",
              "            style=\"display:none;\">\n",
              "\n",
              "<svg xmlns=\"http://www.w3.org/2000/svg\" height=\"24px\"viewBox=\"0 0 24 24\"\n",
              "     width=\"24px\">\n",
              "    <g>\n",
              "        <path d=\"M19 3H5c-1.1 0-2 .9-2 2v14c0 1.1.9 2 2 2h14c1.1 0 2-.9 2-2V5c0-1.1-.9-2-2-2zM9 17H7v-7h2v7zm4 0h-2V7h2v10zm4 0h-2v-4h2v4z\"/>\n",
              "    </g>\n",
              "</svg>\n",
              "  </button>\n",
              "\n",
              "<style>\n",
              "  .colab-df-quickchart {\n",
              "      --bg-color: #E8F0FE;\n",
              "      --fill-color: #1967D2;\n",
              "      --hover-bg-color: #E2EBFA;\n",
              "      --hover-fill-color: #174EA6;\n",
              "      --disabled-fill-color: #AAA;\n",
              "      --disabled-bg-color: #DDD;\n",
              "  }\n",
              "\n",
              "  [theme=dark] .colab-df-quickchart {\n",
              "      --bg-color: #3B4455;\n",
              "      --fill-color: #D2E3FC;\n",
              "      --hover-bg-color: #434B5C;\n",
              "      --hover-fill-color: #FFFFFF;\n",
              "      --disabled-bg-color: #3B4455;\n",
              "      --disabled-fill-color: #666;\n",
              "  }\n",
              "\n",
              "  .colab-df-quickchart {\n",
              "    background-color: var(--bg-color);\n",
              "    border: none;\n",
              "    border-radius: 50%;\n",
              "    cursor: pointer;\n",
              "    display: none;\n",
              "    fill: var(--fill-color);\n",
              "    height: 32px;\n",
              "    padding: 0;\n",
              "    width: 32px;\n",
              "  }\n",
              "\n",
              "  .colab-df-quickchart:hover {\n",
              "    background-color: var(--hover-bg-color);\n",
              "    box-shadow: 0 1px 2px rgba(60, 64, 67, 0.3), 0 1px 3px 1px rgba(60, 64, 67, 0.15);\n",
              "    fill: var(--button-hover-fill-color);\n",
              "  }\n",
              "\n",
              "  .colab-df-quickchart-complete:disabled,\n",
              "  .colab-df-quickchart-complete:disabled:hover {\n",
              "    background-color: var(--disabled-bg-color);\n",
              "    fill: var(--disabled-fill-color);\n",
              "    box-shadow: none;\n",
              "  }\n",
              "\n",
              "  .colab-df-spinner {\n",
              "    border: 2px solid var(--fill-color);\n",
              "    border-color: transparent;\n",
              "    border-bottom-color: var(--fill-color);\n",
              "    animation:\n",
              "      spin 1s steps(1) infinite;\n",
              "  }\n",
              "\n",
              "  @keyframes spin {\n",
              "    0% {\n",
              "      border-color: transparent;\n",
              "      border-bottom-color: var(--fill-color);\n",
              "      border-left-color: var(--fill-color);\n",
              "    }\n",
              "    20% {\n",
              "      border-color: transparent;\n",
              "      border-left-color: var(--fill-color);\n",
              "      border-top-color: var(--fill-color);\n",
              "    }\n",
              "    30% {\n",
              "      border-color: transparent;\n",
              "      border-left-color: var(--fill-color);\n",
              "      border-top-color: var(--fill-color);\n",
              "      border-right-color: var(--fill-color);\n",
              "    }\n",
              "    40% {\n",
              "      border-color: transparent;\n",
              "      border-right-color: var(--fill-color);\n",
              "      border-top-color: var(--fill-color);\n",
              "    }\n",
              "    60% {\n",
              "      border-color: transparent;\n",
              "      border-right-color: var(--fill-color);\n",
              "    }\n",
              "    80% {\n",
              "      border-color: transparent;\n",
              "      border-right-color: var(--fill-color);\n",
              "      border-bottom-color: var(--fill-color);\n",
              "    }\n",
              "    90% {\n",
              "      border-color: transparent;\n",
              "      border-bottom-color: var(--fill-color);\n",
              "    }\n",
              "  }\n",
              "</style>\n",
              "\n",
              "  <script>\n",
              "    async function quickchart(key) {\n",
              "      const quickchartButtonEl =\n",
              "        document.querySelector('#' + key + ' button');\n",
              "      quickchartButtonEl.disabled = true;  // To prevent multiple clicks.\n",
              "      quickchartButtonEl.classList.add('colab-df-spinner');\n",
              "      try {\n",
              "        const charts = await google.colab.kernel.invokeFunction(\n",
              "            'suggestCharts', [key], {});\n",
              "      } catch (error) {\n",
              "        console.error('Error during call to suggestCharts:', error);\n",
              "      }\n",
              "      quickchartButtonEl.classList.remove('colab-df-spinner');\n",
              "      quickchartButtonEl.classList.add('colab-df-quickchart-complete');\n",
              "    }\n",
              "    (() => {\n",
              "      let quickchartButtonEl =\n",
              "        document.querySelector('#df-32ff3dc8-fa96-43ea-8ece-243b094b5fc4 button');\n",
              "      quickchartButtonEl.style.display =\n",
              "        google.colab.kernel.accessAllowed ? 'block' : 'none';\n",
              "    })();\n",
              "  </script>\n",
              "</div>\n",
              "\n",
              "    </div>\n",
              "  </div>\n"
            ],
            "text/plain": [
              "   time_car  cost_car  time_rail  cost_rail  access_rail service_rail choice\n",
              "0       275        45        170         55           25         food   rail\n",
              "1       275        45        155         35            5    no-frills   rail\n",
              "2       300        45        155         65           20    no-frills   rail\n",
              "3       390        35        155         65           15         food   rail\n",
              "4       275        40        155         55            5         food   rail\n",
              "5       250        50        120         65           20         wifi   rail\n",
              "6       275        30        155         65           25         wifi    car\n",
              "7       300        45        170         45            5    no-frills   rail\n",
              "8       345        30        140         65           15    no-frills    car\n",
              "9       250        40        140         75           20         wifi    car"
            ]
          },
          "execution_count": 6,
          "metadata": {},
          "output_type": "execute_result"
        }
      ],
      "source": [
        "mode_choice_car_df.head(10)"
      ]
    },
    {
      "cell_type": "markdown",
      "metadata": {
        "id": "_kbmqIKe_o_r"
      },
      "source": [
        "Get to know the different values for the categorical variable *service rail*."
      ]
    },
    {
      "cell_type": "code",
      "execution_count": 7,
      "metadata": {
        "colab": {
          "base_uri": "https://localhost:8080/"
        },
        "id": "xYPlPLYAByX0",
        "outputId": "41e4fe84-f5ca-4bba-df43-e797163f5a0e"
      },
      "outputs": [
        {
          "data": {
            "text/plain": [
              "array(['food', 'no-frills', 'wifi'], dtype=object)"
            ]
          },
          "execution_count": 7,
          "metadata": {},
          "output_type": "execute_result"
        }
      ],
      "source": [
        "mode_choice_car_df.service_rail.unique()"
      ]
    },
    {
      "cell_type": "markdown",
      "metadata": {
        "id": "B78canKCB2_i"
      },
      "source": [
        "Get an overview about the statistics of the numerical columns:"
      ]
    },
    {
      "cell_type": "code",
      "execution_count": 8,
      "metadata": {
        "colab": {
          "base_uri": "https://localhost:8080/",
          "height": 300
        },
        "id": "dqd3oJ9Epqw7",
        "outputId": "8d7a467c-09d1-42fb-9519-76865e927845"
      },
      "outputs": [
        {
          "data": {
            "application/vnd.google.colaboratory.intrinsic+json": {
              "summary": "{\n  \"name\": \"mode_choice_car_df\",\n  \"rows\": 8,\n  \"fields\": [\n    {\n      \"column\": \"time_car\",\n      \"properties\": {\n        \"dtype\": \"number\",\n        \"std\": 711.3981293449374,\n        \"min\": 49.4247100011564,\n        \"max\": 2266.0,\n        \"num_unique_values\": 8,\n        \"samples\": [\n          310.50529567519857,\n          300.0,\n          2266.0\n        ],\n        \"semantic_type\": \"\",\n        \"description\": \"\"\n      }\n    },\n    {\n      \"column\": \"cost_car\",\n      \"properties\": {\n        \"dtype\": \"number\",\n        \"std\": 788.7802260399518,\n        \"min\": 6.988924345504577,\n        \"max\": 2266.0,\n        \"num_unique_values\": 8,\n        \"samples\": [\n          40.083848190644304,\n          40.0,\n          2266.0\n        ],\n        \"semantic_type\": \"\",\n        \"description\": \"\"\n      }\n    },\n    {\n      \"column\": \"time_rail\",\n      \"properties\": {\n        \"dtype\": \"number\",\n        \"std\": 758.2940175595742,\n        \"min\": 18.23660349171928,\n        \"max\": 2266.0,\n        \"num_unique_values\": 8,\n        \"samples\": [\n          143.17519858781995,\n          140.0,\n          2266.0\n        ],\n        \"semantic_type\": \"\",\n        \"description\": \"\"\n      }\n    },\n    {\n      \"column\": \"cost_rail\",\n      \"properties\": {\n        \"dtype\": \"number\",\n        \"std\": 784.0620640937934,\n        \"min\": 14.285212111829193,\n        \"max\": 2266.0,\n        \"num_unique_values\": 8,\n        \"samples\": [\n          53.415710503089144,\n          55.0,\n          2266.0\n        ],\n        \"semantic_type\": \"\",\n        \"description\": \"\"\n      }\n    },\n    {\n      \"column\": \"access_rail\",\n      \"properties\": {\n        \"dtype\": \"number\",\n        \"std\": 796.2715971446836,\n        \"min\": 5.0,\n        \"max\": 2266.0,\n        \"num_unique_values\": 8,\n        \"samples\": [\n          15.037511032656663,\n          15.0,\n          2266.0\n        ],\n        \"semantic_type\": \"\",\n        \"description\": \"\"\n      }\n    }\n  ]\n}",
              "type": "dataframe"
            },
            "text/html": [
              "\n",
              "  <div id=\"df-4e431d66-6353-4253-9bdd-773f1f63fc5c\" class=\"colab-df-container\">\n",
              "    <div>\n",
              "<style scoped>\n",
              "    .dataframe tbody tr th:only-of-type {\n",
              "        vertical-align: middle;\n",
              "    }\n",
              "\n",
              "    .dataframe tbody tr th {\n",
              "        vertical-align: top;\n",
              "    }\n",
              "\n",
              "    .dataframe thead th {\n",
              "        text-align: right;\n",
              "    }\n",
              "</style>\n",
              "<table border=\"1\" class=\"dataframe\">\n",
              "  <thead>\n",
              "    <tr style=\"text-align: right;\">\n",
              "      <th></th>\n",
              "      <th>time_car</th>\n",
              "      <th>cost_car</th>\n",
              "      <th>time_rail</th>\n",
              "      <th>cost_rail</th>\n",
              "      <th>access_rail</th>\n",
              "    </tr>\n",
              "  </thead>\n",
              "  <tbody>\n",
              "    <tr>\n",
              "      <th>count</th>\n",
              "      <td>2266.000000</td>\n",
              "      <td>2266.000000</td>\n",
              "      <td>2266.000000</td>\n",
              "      <td>2266.000000</td>\n",
              "      <td>2266.000000</td>\n",
              "    </tr>\n",
              "    <tr>\n",
              "      <th>mean</th>\n",
              "      <td>310.505296</td>\n",
              "      <td>40.083848</td>\n",
              "      <td>143.175199</td>\n",
              "      <td>53.415711</td>\n",
              "      <td>15.037511</td>\n",
              "    </tr>\n",
              "    <tr>\n",
              "      <th>std</th>\n",
              "      <td>49.424710</td>\n",
              "      <td>6.988924</td>\n",
              "      <td>18.236603</td>\n",
              "      <td>14.285212</td>\n",
              "      <td>7.127716</td>\n",
              "    </tr>\n",
              "    <tr>\n",
              "      <th>min</th>\n",
              "      <td>250.000000</td>\n",
              "      <td>30.000000</td>\n",
              "      <td>120.000000</td>\n",
              "      <td>35.000000</td>\n",
              "      <td>5.000000</td>\n",
              "    </tr>\n",
              "    <tr>\n",
              "      <th>25%</th>\n",
              "      <td>275.000000</td>\n",
              "      <td>35.000000</td>\n",
              "      <td>130.000000</td>\n",
              "      <td>45.000000</td>\n",
              "      <td>10.000000</td>\n",
              "    </tr>\n",
              "    <tr>\n",
              "      <th>50%</th>\n",
              "      <td>300.000000</td>\n",
              "      <td>40.000000</td>\n",
              "      <td>140.000000</td>\n",
              "      <td>55.000000</td>\n",
              "      <td>15.000000</td>\n",
              "    </tr>\n",
              "    <tr>\n",
              "      <th>75%</th>\n",
              "      <td>345.000000</td>\n",
              "      <td>45.000000</td>\n",
              "      <td>155.000000</td>\n",
              "      <td>65.000000</td>\n",
              "      <td>20.000000</td>\n",
              "    </tr>\n",
              "    <tr>\n",
              "      <th>max</th>\n",
              "      <td>390.000000</td>\n",
              "      <td>50.000000</td>\n",
              "      <td>170.000000</td>\n",
              "      <td>75.000000</td>\n",
              "      <td>25.000000</td>\n",
              "    </tr>\n",
              "  </tbody>\n",
              "</table>\n",
              "</div>\n",
              "    <div class=\"colab-df-buttons\">\n",
              "\n",
              "  <div class=\"colab-df-container\">\n",
              "    <button class=\"colab-df-convert\" onclick=\"convertToInteractive('df-4e431d66-6353-4253-9bdd-773f1f63fc5c')\"\n",
              "            title=\"Convert this dataframe to an interactive table.\"\n",
              "            style=\"display:none;\">\n",
              "\n",
              "  <svg xmlns=\"http://www.w3.org/2000/svg\" height=\"24px\" viewBox=\"0 -960 960 960\">\n",
              "    <path d=\"M120-120v-720h720v720H120Zm60-500h600v-160H180v160Zm220 220h160v-160H400v160Zm0 220h160v-160H400v160ZM180-400h160v-160H180v160Zm440 0h160v-160H620v160ZM180-180h160v-160H180v160Zm440 0h160v-160H620v160Z\"/>\n",
              "  </svg>\n",
              "    </button>\n",
              "\n",
              "  <style>\n",
              "    .colab-df-container {\n",
              "      display:flex;\n",
              "      gap: 12px;\n",
              "    }\n",
              "\n",
              "    .colab-df-convert {\n",
              "      background-color: #E8F0FE;\n",
              "      border: none;\n",
              "      border-radius: 50%;\n",
              "      cursor: pointer;\n",
              "      display: none;\n",
              "      fill: #1967D2;\n",
              "      height: 32px;\n",
              "      padding: 0 0 0 0;\n",
              "      width: 32px;\n",
              "    }\n",
              "\n",
              "    .colab-df-convert:hover {\n",
              "      background-color: #E2EBFA;\n",
              "      box-shadow: 0px 1px 2px rgba(60, 64, 67, 0.3), 0px 1px 3px 1px rgba(60, 64, 67, 0.15);\n",
              "      fill: #174EA6;\n",
              "    }\n",
              "\n",
              "    .colab-df-buttons div {\n",
              "      margin-bottom: 4px;\n",
              "    }\n",
              "\n",
              "    [theme=dark] .colab-df-convert {\n",
              "      background-color: #3B4455;\n",
              "      fill: #D2E3FC;\n",
              "    }\n",
              "\n",
              "    [theme=dark] .colab-df-convert:hover {\n",
              "      background-color: #434B5C;\n",
              "      box-shadow: 0px 1px 3px 1px rgba(0, 0, 0, 0.15);\n",
              "      filter: drop-shadow(0px 1px 2px rgba(0, 0, 0, 0.3));\n",
              "      fill: #FFFFFF;\n",
              "    }\n",
              "  </style>\n",
              "\n",
              "    <script>\n",
              "      const buttonEl =\n",
              "        document.querySelector('#df-4e431d66-6353-4253-9bdd-773f1f63fc5c button.colab-df-convert');\n",
              "      buttonEl.style.display =\n",
              "        google.colab.kernel.accessAllowed ? 'block' : 'none';\n",
              "\n",
              "      async function convertToInteractive(key) {\n",
              "        const element = document.querySelector('#df-4e431d66-6353-4253-9bdd-773f1f63fc5c');\n",
              "        const dataTable =\n",
              "          await google.colab.kernel.invokeFunction('convertToInteractive',\n",
              "                                                    [key], {});\n",
              "        if (!dataTable) return;\n",
              "\n",
              "        const docLinkHtml = 'Like what you see? Visit the ' +\n",
              "          '<a target=\"_blank\" href=https://colab.research.google.com/notebooks/data_table.ipynb>data table notebook</a>'\n",
              "          + ' to learn more about interactive tables.';\n",
              "        element.innerHTML = '';\n",
              "        dataTable['output_type'] = 'display_data';\n",
              "        await google.colab.output.renderOutput(dataTable, element);\n",
              "        const docLink = document.createElement('div');\n",
              "        docLink.innerHTML = docLinkHtml;\n",
              "        element.appendChild(docLink);\n",
              "      }\n",
              "    </script>\n",
              "  </div>\n",
              "\n",
              "\n",
              "<div id=\"df-35cadb01-bedb-4298-a2a6-06c534257392\">\n",
              "  <button class=\"colab-df-quickchart\" onclick=\"quickchart('df-35cadb01-bedb-4298-a2a6-06c534257392')\"\n",
              "            title=\"Suggest charts\"\n",
              "            style=\"display:none;\">\n",
              "\n",
              "<svg xmlns=\"http://www.w3.org/2000/svg\" height=\"24px\"viewBox=\"0 0 24 24\"\n",
              "     width=\"24px\">\n",
              "    <g>\n",
              "        <path d=\"M19 3H5c-1.1 0-2 .9-2 2v14c0 1.1.9 2 2 2h14c1.1 0 2-.9 2-2V5c0-1.1-.9-2-2-2zM9 17H7v-7h2v7zm4 0h-2V7h2v10zm4 0h-2v-4h2v4z\"/>\n",
              "    </g>\n",
              "</svg>\n",
              "  </button>\n",
              "\n",
              "<style>\n",
              "  .colab-df-quickchart {\n",
              "      --bg-color: #E8F0FE;\n",
              "      --fill-color: #1967D2;\n",
              "      --hover-bg-color: #E2EBFA;\n",
              "      --hover-fill-color: #174EA6;\n",
              "      --disabled-fill-color: #AAA;\n",
              "      --disabled-bg-color: #DDD;\n",
              "  }\n",
              "\n",
              "  [theme=dark] .colab-df-quickchart {\n",
              "      --bg-color: #3B4455;\n",
              "      --fill-color: #D2E3FC;\n",
              "      --hover-bg-color: #434B5C;\n",
              "      --hover-fill-color: #FFFFFF;\n",
              "      --disabled-bg-color: #3B4455;\n",
              "      --disabled-fill-color: #666;\n",
              "  }\n",
              "\n",
              "  .colab-df-quickchart {\n",
              "    background-color: var(--bg-color);\n",
              "    border: none;\n",
              "    border-radius: 50%;\n",
              "    cursor: pointer;\n",
              "    display: none;\n",
              "    fill: var(--fill-color);\n",
              "    height: 32px;\n",
              "    padding: 0;\n",
              "    width: 32px;\n",
              "  }\n",
              "\n",
              "  .colab-df-quickchart:hover {\n",
              "    background-color: var(--hover-bg-color);\n",
              "    box-shadow: 0 1px 2px rgba(60, 64, 67, 0.3), 0 1px 3px 1px rgba(60, 64, 67, 0.15);\n",
              "    fill: var(--button-hover-fill-color);\n",
              "  }\n",
              "\n",
              "  .colab-df-quickchart-complete:disabled,\n",
              "  .colab-df-quickchart-complete:disabled:hover {\n",
              "    background-color: var(--disabled-bg-color);\n",
              "    fill: var(--disabled-fill-color);\n",
              "    box-shadow: none;\n",
              "  }\n",
              "\n",
              "  .colab-df-spinner {\n",
              "    border: 2px solid var(--fill-color);\n",
              "    border-color: transparent;\n",
              "    border-bottom-color: var(--fill-color);\n",
              "    animation:\n",
              "      spin 1s steps(1) infinite;\n",
              "  }\n",
              "\n",
              "  @keyframes spin {\n",
              "    0% {\n",
              "      border-color: transparent;\n",
              "      border-bottom-color: var(--fill-color);\n",
              "      border-left-color: var(--fill-color);\n",
              "    }\n",
              "    20% {\n",
              "      border-color: transparent;\n",
              "      border-left-color: var(--fill-color);\n",
              "      border-top-color: var(--fill-color);\n",
              "    }\n",
              "    30% {\n",
              "      border-color: transparent;\n",
              "      border-left-color: var(--fill-color);\n",
              "      border-top-color: var(--fill-color);\n",
              "      border-right-color: var(--fill-color);\n",
              "    }\n",
              "    40% {\n",
              "      border-color: transparent;\n",
              "      border-right-color: var(--fill-color);\n",
              "      border-top-color: var(--fill-color);\n",
              "    }\n",
              "    60% {\n",
              "      border-color: transparent;\n",
              "      border-right-color: var(--fill-color);\n",
              "    }\n",
              "    80% {\n",
              "      border-color: transparent;\n",
              "      border-right-color: var(--fill-color);\n",
              "      border-bottom-color: var(--fill-color);\n",
              "    }\n",
              "    90% {\n",
              "      border-color: transparent;\n",
              "      border-bottom-color: var(--fill-color);\n",
              "    }\n",
              "  }\n",
              "</style>\n",
              "\n",
              "  <script>\n",
              "    async function quickchart(key) {\n",
              "      const quickchartButtonEl =\n",
              "        document.querySelector('#' + key + ' button');\n",
              "      quickchartButtonEl.disabled = true;  // To prevent multiple clicks.\n",
              "      quickchartButtonEl.classList.add('colab-df-spinner');\n",
              "      try {\n",
              "        const charts = await google.colab.kernel.invokeFunction(\n",
              "            'suggestCharts', [key], {});\n",
              "      } catch (error) {\n",
              "        console.error('Error during call to suggestCharts:', error);\n",
              "      }\n",
              "      quickchartButtonEl.classList.remove('colab-df-spinner');\n",
              "      quickchartButtonEl.classList.add('colab-df-quickchart-complete');\n",
              "    }\n",
              "    (() => {\n",
              "      let quickchartButtonEl =\n",
              "        document.querySelector('#df-35cadb01-bedb-4298-a2a6-06c534257392 button');\n",
              "      quickchartButtonEl.style.display =\n",
              "        google.colab.kernel.accessAllowed ? 'block' : 'none';\n",
              "    })();\n",
              "  </script>\n",
              "</div>\n",
              "\n",
              "    </div>\n",
              "  </div>\n"
            ],
            "text/plain": [
              "          time_car     cost_car    time_rail    cost_rail  access_rail\n",
              "count  2266.000000  2266.000000  2266.000000  2266.000000  2266.000000\n",
              "mean    310.505296    40.083848   143.175199    53.415711    15.037511\n",
              "std      49.424710     6.988924    18.236603    14.285212     7.127716\n",
              "min     250.000000    30.000000   120.000000    35.000000     5.000000\n",
              "25%     275.000000    35.000000   130.000000    45.000000    10.000000\n",
              "50%     300.000000    40.000000   140.000000    55.000000    15.000000\n",
              "75%     345.000000    45.000000   155.000000    65.000000    20.000000\n",
              "max     390.000000    50.000000   170.000000    75.000000    25.000000"
            ]
          },
          "execution_count": 8,
          "metadata": {},
          "output_type": "execute_result"
        }
      ],
      "source": [
        "mode_choice_car_df.describe()"
      ]
    },
    {
      "cell_type": "markdown",
      "metadata": {
        "id": "VdOghmNYplJe"
      },
      "source": [
        "### Train-Test Split\n",
        "\n",
        "We divide the data first into its explaining variables/features (X) and the variable that we want to predict/target (y).\n",
        "\n",
        "Afterwards we create a train and test set with a 80%/20% split."
      ]
    },
    {
      "cell_type": "code",
      "execution_count": 9,
      "metadata": {
        "id": "iT2X2dEbbzhA"
      },
      "outputs": [],
      "source": [
        "from sklearn.model_selection import train_test_split\n",
        "\n",
        "X = mode_choice_car_df.drop(columns=[\"choice\"])\n",
        "y = mode_choice_car_df[\"choice\"]\n",
        "\n",
        "X_train, X_test, y_train, y_test = train_test_split(X, y, test_size=0.2, random_state=0)"
      ]
    },
    {
      "cell_type": "code",
      "execution_count": 28,
      "metadata": {
        "colab": {
          "base_uri": "https://localhost:8080/",
          "height": 206
        },
        "id": "rbDd-RyPCuCm",
        "outputId": "5039cc61-68e1-45b8-921a-7fe370a72f50"
      },
      "outputs": [
        {
          "data": {
            "application/vnd.google.colaboratory.intrinsic+json": {
              "summary": "{\n  \"name\": \"X_train\",\n  \"rows\": 1812,\n  \"fields\": [\n    {\n      \"column\": \"time_car\",\n      \"properties\": {\n        \"dtype\": \"number\",\n        \"std\": 49,\n        \"min\": 250,\n        \"max\": 390,\n        \"num_unique_values\": 5,\n        \"samples\": [\n          275,\n          390,\n          300\n        ],\n        \"semantic_type\": \"\",\n        \"description\": \"\"\n      }\n    },\n    {\n      \"column\": \"cost_car\",\n      \"properties\": {\n        \"dtype\": \"number\",\n        \"std\": 6,\n        \"min\": 30,\n        \"max\": 50,\n        \"num_unique_values\": 5,\n        \"samples\": [\n          35,\n          30,\n          40\n        ],\n        \"semantic_type\": \"\",\n        \"description\": \"\"\n      }\n    },\n    {\n      \"column\": \"time_rail\",\n      \"properties\": {\n        \"dtype\": \"number\",\n        \"std\": 18,\n        \"min\": 120,\n        \"max\": 170,\n        \"num_unique_values\": 5,\n        \"samples\": [\n          140,\n          120,\n          130\n        ],\n        \"semantic_type\": \"\",\n        \"description\": \"\"\n      }\n    },\n    {\n      \"column\": \"cost_rail\",\n      \"properties\": {\n        \"dtype\": \"number\",\n        \"std\": 14,\n        \"min\": 35,\n        \"max\": 75,\n        \"num_unique_values\": 5,\n        \"samples\": [\n          65,\n          75,\n          55\n        ],\n        \"semantic_type\": \"\",\n        \"description\": \"\"\n      }\n    },\n    {\n      \"column\": \"access_rail\",\n      \"properties\": {\n        \"dtype\": \"number\",\n        \"std\": 7,\n        \"min\": 5,\n        \"max\": 25,\n        \"num_unique_values\": 5,\n        \"samples\": [\n          20,\n          5,\n          25\n        ],\n        \"semantic_type\": \"\",\n        \"description\": \"\"\n      }\n    },\n    {\n      \"column\": \"service_rail\",\n      \"properties\": {\n        \"dtype\": \"category\",\n        \"num_unique_values\": 3,\n        \"samples\": [\n          \"food\",\n          \"no-frills\",\n          \"wifi\"\n        ],\n        \"semantic_type\": \"\",\n        \"description\": \"\"\n      }\n    }\n  ]\n}",
              "type": "dataframe",
              "variable_name": "X_train"
            },
            "text/html": [
              "\n",
              "  <div id=\"df-d5fe755e-d827-40e5-9e25-8bd6349951df\" class=\"colab-df-container\">\n",
              "    <div>\n",
              "<style scoped>\n",
              "    .dataframe tbody tr th:only-of-type {\n",
              "        vertical-align: middle;\n",
              "    }\n",
              "\n",
              "    .dataframe tbody tr th {\n",
              "        vertical-align: top;\n",
              "    }\n",
              "\n",
              "    .dataframe thead th {\n",
              "        text-align: right;\n",
              "    }\n",
              "</style>\n",
              "<table border=\"1\" class=\"dataframe\">\n",
              "  <thead>\n",
              "    <tr style=\"text-align: right;\">\n",
              "      <th></th>\n",
              "      <th>time_car</th>\n",
              "      <th>cost_car</th>\n",
              "      <th>time_rail</th>\n",
              "      <th>cost_rail</th>\n",
              "      <th>access_rail</th>\n",
              "      <th>service_rail</th>\n",
              "    </tr>\n",
              "  </thead>\n",
              "  <tbody>\n",
              "    <tr>\n",
              "      <th>1150</th>\n",
              "      <td>250</td>\n",
              "      <td>45</td>\n",
              "      <td>170</td>\n",
              "      <td>35</td>\n",
              "      <td>15</td>\n",
              "      <td>food</td>\n",
              "    </tr>\n",
              "    <tr>\n",
              "      <th>1538</th>\n",
              "      <td>275</td>\n",
              "      <td>35</td>\n",
              "      <td>140</td>\n",
              "      <td>65</td>\n",
              "      <td>20</td>\n",
              "      <td>food</td>\n",
              "    </tr>\n",
              "    <tr>\n",
              "      <th>1254</th>\n",
              "      <td>300</td>\n",
              "      <td>40</td>\n",
              "      <td>140</td>\n",
              "      <td>55</td>\n",
              "      <td>25</td>\n",
              "      <td>food</td>\n",
              "    </tr>\n",
              "    <tr>\n",
              "      <th>1843</th>\n",
              "      <td>345</td>\n",
              "      <td>45</td>\n",
              "      <td>130</td>\n",
              "      <td>45</td>\n",
              "      <td>10</td>\n",
              "      <td>no-frills</td>\n",
              "    </tr>\n",
              "    <tr>\n",
              "      <th>977</th>\n",
              "      <td>345</td>\n",
              "      <td>35</td>\n",
              "      <td>140</td>\n",
              "      <td>45</td>\n",
              "      <td>25</td>\n",
              "      <td>food</td>\n",
              "    </tr>\n",
              "  </tbody>\n",
              "</table>\n",
              "</div>\n",
              "    <div class=\"colab-df-buttons\">\n",
              "\n",
              "  <div class=\"colab-df-container\">\n",
              "    <button class=\"colab-df-convert\" onclick=\"convertToInteractive('df-d5fe755e-d827-40e5-9e25-8bd6349951df')\"\n",
              "            title=\"Convert this dataframe to an interactive table.\"\n",
              "            style=\"display:none;\">\n",
              "\n",
              "  <svg xmlns=\"http://www.w3.org/2000/svg\" height=\"24px\" viewBox=\"0 -960 960 960\">\n",
              "    <path d=\"M120-120v-720h720v720H120Zm60-500h600v-160H180v160Zm220 220h160v-160H400v160Zm0 220h160v-160H400v160ZM180-400h160v-160H180v160Zm440 0h160v-160H620v160ZM180-180h160v-160H180v160Zm440 0h160v-160H620v160Z\"/>\n",
              "  </svg>\n",
              "    </button>\n",
              "\n",
              "  <style>\n",
              "    .colab-df-container {\n",
              "      display:flex;\n",
              "      gap: 12px;\n",
              "    }\n",
              "\n",
              "    .colab-df-convert {\n",
              "      background-color: #E8F0FE;\n",
              "      border: none;\n",
              "      border-radius: 50%;\n",
              "      cursor: pointer;\n",
              "      display: none;\n",
              "      fill: #1967D2;\n",
              "      height: 32px;\n",
              "      padding: 0 0 0 0;\n",
              "      width: 32px;\n",
              "    }\n",
              "\n",
              "    .colab-df-convert:hover {\n",
              "      background-color: #E2EBFA;\n",
              "      box-shadow: 0px 1px 2px rgba(60, 64, 67, 0.3), 0px 1px 3px 1px rgba(60, 64, 67, 0.15);\n",
              "      fill: #174EA6;\n",
              "    }\n",
              "\n",
              "    .colab-df-buttons div {\n",
              "      margin-bottom: 4px;\n",
              "    }\n",
              "\n",
              "    [theme=dark] .colab-df-convert {\n",
              "      background-color: #3B4455;\n",
              "      fill: #D2E3FC;\n",
              "    }\n",
              "\n",
              "    [theme=dark] .colab-df-convert:hover {\n",
              "      background-color: #434B5C;\n",
              "      box-shadow: 0px 1px 3px 1px rgba(0, 0, 0, 0.15);\n",
              "      filter: drop-shadow(0px 1px 2px rgba(0, 0, 0, 0.3));\n",
              "      fill: #FFFFFF;\n",
              "    }\n",
              "  </style>\n",
              "\n",
              "    <script>\n",
              "      const buttonEl =\n",
              "        document.querySelector('#df-d5fe755e-d827-40e5-9e25-8bd6349951df button.colab-df-convert');\n",
              "      buttonEl.style.display =\n",
              "        google.colab.kernel.accessAllowed ? 'block' : 'none';\n",
              "\n",
              "      async function convertToInteractive(key) {\n",
              "        const element = document.querySelector('#df-d5fe755e-d827-40e5-9e25-8bd6349951df');\n",
              "        const dataTable =\n",
              "          await google.colab.kernel.invokeFunction('convertToInteractive',\n",
              "                                                    [key], {});\n",
              "        if (!dataTable) return;\n",
              "\n",
              "        const docLinkHtml = 'Like what you see? Visit the ' +\n",
              "          '<a target=\"_blank\" href=https://colab.research.google.com/notebooks/data_table.ipynb>data table notebook</a>'\n",
              "          + ' to learn more about interactive tables.';\n",
              "        element.innerHTML = '';\n",
              "        dataTable['output_type'] = 'display_data';\n",
              "        await google.colab.output.renderOutput(dataTable, element);\n",
              "        const docLink = document.createElement('div');\n",
              "        docLink.innerHTML = docLinkHtml;\n",
              "        element.appendChild(docLink);\n",
              "      }\n",
              "    </script>\n",
              "  </div>\n",
              "\n",
              "\n",
              "<div id=\"df-cc1518d7-8d73-4c91-96c5-a444869677c3\">\n",
              "  <button class=\"colab-df-quickchart\" onclick=\"quickchart('df-cc1518d7-8d73-4c91-96c5-a444869677c3')\"\n",
              "            title=\"Suggest charts\"\n",
              "            style=\"display:none;\">\n",
              "\n",
              "<svg xmlns=\"http://www.w3.org/2000/svg\" height=\"24px\"viewBox=\"0 0 24 24\"\n",
              "     width=\"24px\">\n",
              "    <g>\n",
              "        <path d=\"M19 3H5c-1.1 0-2 .9-2 2v14c0 1.1.9 2 2 2h14c1.1 0 2-.9 2-2V5c0-1.1-.9-2-2-2zM9 17H7v-7h2v7zm4 0h-2V7h2v10zm4 0h-2v-4h2v4z\"/>\n",
              "    </g>\n",
              "</svg>\n",
              "  </button>\n",
              "\n",
              "<style>\n",
              "  .colab-df-quickchart {\n",
              "      --bg-color: #E8F0FE;\n",
              "      --fill-color: #1967D2;\n",
              "      --hover-bg-color: #E2EBFA;\n",
              "      --hover-fill-color: #174EA6;\n",
              "      --disabled-fill-color: #AAA;\n",
              "      --disabled-bg-color: #DDD;\n",
              "  }\n",
              "\n",
              "  [theme=dark] .colab-df-quickchart {\n",
              "      --bg-color: #3B4455;\n",
              "      --fill-color: #D2E3FC;\n",
              "      --hover-bg-color: #434B5C;\n",
              "      --hover-fill-color: #FFFFFF;\n",
              "      --disabled-bg-color: #3B4455;\n",
              "      --disabled-fill-color: #666;\n",
              "  }\n",
              "\n",
              "  .colab-df-quickchart {\n",
              "    background-color: var(--bg-color);\n",
              "    border: none;\n",
              "    border-radius: 50%;\n",
              "    cursor: pointer;\n",
              "    display: none;\n",
              "    fill: var(--fill-color);\n",
              "    height: 32px;\n",
              "    padding: 0;\n",
              "    width: 32px;\n",
              "  }\n",
              "\n",
              "  .colab-df-quickchart:hover {\n",
              "    background-color: var(--hover-bg-color);\n",
              "    box-shadow: 0 1px 2px rgba(60, 64, 67, 0.3), 0 1px 3px 1px rgba(60, 64, 67, 0.15);\n",
              "    fill: var(--button-hover-fill-color);\n",
              "  }\n",
              "\n",
              "  .colab-df-quickchart-complete:disabled,\n",
              "  .colab-df-quickchart-complete:disabled:hover {\n",
              "    background-color: var(--disabled-bg-color);\n",
              "    fill: var(--disabled-fill-color);\n",
              "    box-shadow: none;\n",
              "  }\n",
              "\n",
              "  .colab-df-spinner {\n",
              "    border: 2px solid var(--fill-color);\n",
              "    border-color: transparent;\n",
              "    border-bottom-color: var(--fill-color);\n",
              "    animation:\n",
              "      spin 1s steps(1) infinite;\n",
              "  }\n",
              "\n",
              "  @keyframes spin {\n",
              "    0% {\n",
              "      border-color: transparent;\n",
              "      border-bottom-color: var(--fill-color);\n",
              "      border-left-color: var(--fill-color);\n",
              "    }\n",
              "    20% {\n",
              "      border-color: transparent;\n",
              "      border-left-color: var(--fill-color);\n",
              "      border-top-color: var(--fill-color);\n",
              "    }\n",
              "    30% {\n",
              "      border-color: transparent;\n",
              "      border-left-color: var(--fill-color);\n",
              "      border-top-color: var(--fill-color);\n",
              "      border-right-color: var(--fill-color);\n",
              "    }\n",
              "    40% {\n",
              "      border-color: transparent;\n",
              "      border-right-color: var(--fill-color);\n",
              "      border-top-color: var(--fill-color);\n",
              "    }\n",
              "    60% {\n",
              "      border-color: transparent;\n",
              "      border-right-color: var(--fill-color);\n",
              "    }\n",
              "    80% {\n",
              "      border-color: transparent;\n",
              "      border-right-color: var(--fill-color);\n",
              "      border-bottom-color: var(--fill-color);\n",
              "    }\n",
              "    90% {\n",
              "      border-color: transparent;\n",
              "      border-bottom-color: var(--fill-color);\n",
              "    }\n",
              "  }\n",
              "</style>\n",
              "\n",
              "  <script>\n",
              "    async function quickchart(key) {\n",
              "      const quickchartButtonEl =\n",
              "        document.querySelector('#' + key + ' button');\n",
              "      quickchartButtonEl.disabled = true;  // To prevent multiple clicks.\n",
              "      quickchartButtonEl.classList.add('colab-df-spinner');\n",
              "      try {\n",
              "        const charts = await google.colab.kernel.invokeFunction(\n",
              "            'suggestCharts', [key], {});\n",
              "      } catch (error) {\n",
              "        console.error('Error during call to suggestCharts:', error);\n",
              "      }\n",
              "      quickchartButtonEl.classList.remove('colab-df-spinner');\n",
              "      quickchartButtonEl.classList.add('colab-df-quickchart-complete');\n",
              "    }\n",
              "    (() => {\n",
              "      let quickchartButtonEl =\n",
              "        document.querySelector('#df-cc1518d7-8d73-4c91-96c5-a444869677c3 button');\n",
              "      quickchartButtonEl.style.display =\n",
              "        google.colab.kernel.accessAllowed ? 'block' : 'none';\n",
              "    })();\n",
              "  </script>\n",
              "</div>\n",
              "\n",
              "    </div>\n",
              "  </div>\n"
            ],
            "text/plain": [
              "      time_car  cost_car  time_rail  cost_rail  access_rail service_rail\n",
              "1150       250        45        170         35           15         food\n",
              "1538       275        35        140         65           20         food\n",
              "1254       300        40        140         55           25         food\n",
              "1843       345        45        130         45           10    no-frills\n",
              "977        345        35        140         45           25         food"
            ]
          },
          "execution_count": 28,
          "metadata": {},
          "output_type": "execute_result"
        }
      ],
      "source": [
        "X_train.head()"
      ]
    },
    {
      "cell_type": "markdown",
      "metadata": {
        "id": "2oxjUFBZpVaq"
      },
      "source": [
        "### Scaling and Encoding the features\n",
        "\n",
        "We remember: especially for distance calculations we need to scale the features to ensure equal influence.\n",
        "\n",
        "Furthermore, we have a categorical variable in our dataset: *service_rail*. We need to treat this variable by an encoding technique before using it. In this case we have decided for one-hot encoding.\n"
      ]
    },
    {
      "cell_type": "code",
      "execution_count": 11,
      "metadata": {
        "colab": {
          "base_uri": "https://localhost:8080/"
        },
        "id": "f3ZwFGzjCDhz",
        "outputId": "8bb55c5f-08ea-4998-e871-79bffacb9b49"
      },
      "outputs": [
        {
          "name": "stderr",
          "output_type": "stream",
          "text": [
            "/usr/local/lib/python3.10/dist-packages/sklearn/preprocessing/_encoders.py:975: FutureWarning: `sparse` was renamed to `sparse_output` in version 1.2 and will be removed in 1.4. `sparse_output` is ignored unless you leave `sparse` to its default value.\n",
            "  warnings.warn(\n",
            "/usr/local/lib/python3.10/dist-packages/sklearn/preprocessing/_encoders.py:975: FutureWarning: `sparse` was renamed to `sparse_output` in version 1.2 and will be removed in 1.4. `sparse_output` is ignored unless you leave `sparse` to its default value.\n",
            "  warnings.warn(\n"
          ]
        }
      ],
      "source": [
        "from sklearn.preprocessing import StandardScaler, OneHotEncoder\n",
        "\n",
        "# Define which columns should be encoded vs scaled\n",
        "columns_to_encode = [\"service_rail\"]\n",
        "columns_to_scale  = [\"time_car\", \"cost_car\", \"time_rail\", \"cost_rail\", \"access_rail\"]\n",
        "\n",
        "# Instantiate encoder/scaler\n",
        "scaler = StandardScaler()\n",
        "ohe = OneHotEncoder(sparse=False)\n",
        "\n",
        "# Scale and Encode Separate Columns\n",
        "X_train_scaled_columns  = scaler.fit_transform(X_train[columns_to_scale])\n",
        "X_train_encoded_columns = ohe.fit_transform(X_train[columns_to_encode])\n",
        "\n",
        "X_test_scaled_columns  = scaler.transform(X_test[columns_to_scale])\n",
        "X_test_encoded_columns = ohe.transform(X_test[columns_to_encode])\n",
        "\n",
        "# Concatenate (Column-Bind) Processed Columns Back Together\n",
        "X_train_processed = np.concatenate([X_train_scaled_columns, X_train_encoded_columns], axis=1)\n",
        "X_test_processed = np.concatenate([X_test_scaled_columns, X_test_encoded_columns], axis=1)"
      ]
    },
    {
      "cell_type": "markdown",
      "metadata": {
        "id": "1t3aWEJFit7B"
      },
      "source": [
        "## Task 1: Build your own KNN classifier\n",
        "\n",
        "Your task is now to implement the KNN algorithm yourself. Return the classification of the unclassified point (*X_unclassified*).\n",
        "\n",
        "Python methods that might be helpful:\n",
        "- **for-loop**: ```for value in mylist:```\n",
        "- **Append values to a list:** ```my_list.append(value)```\n",
        "- **Get the indices of the n smallest values of the list mylist**: ```np.argsort(my_list)[:n]```\n",
        "- **Gets the values from a pandas series at the location of the given indices**: ```y_train.iloc[indices]```\n",
        "- **Get the most frequent element in a list**: ```mode(mylist)```"
      ]
    },
    {
      "cell_type": "markdown",
      "metadata": {
        "id": "ZHBRIc74Sfe9"
      },
      "source": [
        "### Implement Distance Function\n",
        "\n",
        "The euclidean distance function allows to determine the distance between two points."
      ]
    },
    {
      "cell_type": "code",
      "execution_count": 12,
      "metadata": {
        "id": "_jtyTSf6SbwQ"
      },
      "outputs": [],
      "source": [
        "def euclidean_distance(point1, point2):\n",
        "  # go through the features of point1 and 2\n",
        "  current_sum = 0\n",
        "  for i in range(0, len(point1)):\n",
        "    # calculate their squared difference and sum it\n",
        "    current_sum += (point1[i]-point2[i])**2\n",
        "\n",
        "  # calculate the square root from the summed distances\n",
        "  distance = np.sqrt(current_sum)\n",
        "\n",
        "  return distance"
      ]
    },
    {
      "cell_type": "markdown",
      "metadata": {
        "id": "-9Mt8yEksSYa"
      },
      "source": [
        "### Code of your own KNN classifier:"
      ]
    },
    {
      "cell_type": "code",
      "execution_count": 13,
      "metadata": {
        "id": "o2Kks1rmiv0K"
      },
      "outputs": [],
      "source": [
        "def custom_knn(X_train, y_train, X_unclassified, k):\n",
        "\n",
        "  #################################################\n",
        "  # Your code                                     #\n",
        "  #################################################\n",
        "\n",
        "  # change that to the actual classification\n",
        "  classification = None\n",
        "  return classification"
      ]
    },
    {
      "cell_type": "markdown",
      "metadata": {
        "id": "sB-U4w9Zq35d"
      },
      "source": [
        "### Make a prediction"
      ]
    },
    {
      "cell_type": "code",
      "execution_count": null,
      "metadata": {
        "id": "hrQD7LTIbTSX"
      },
      "outputs": [],
      "source": [
        "custom_knn(X_train_processed, y_train, X_test_processed[0], 5)"
      ]
    },
    {
      "cell_type": "markdown",
      "metadata": {
        "id": "TWecmtnKw2V2"
      },
      "source": [
        "### Compare with the true class"
      ]
    },
    {
      "cell_type": "code",
      "execution_count": null,
      "metadata": {
        "id": "J5wEborXc7vd"
      },
      "outputs": [],
      "source": [
        "y_test.iloc[0]"
      ]
    },
    {
      "cell_type": "markdown",
      "metadata": {
        "id": "nQYuQ4zax4KE"
      },
      "source": [
        "## Task 2: Understand Classification Evaluation Metrics\n",
        "\n",
        " - **Accuracy**: The ratio of correctly predicted instances to the total instances.\n",
        "   - Formula: `Accuracy = (TP + TN) / (TP + TN + FP + FN)`\n",
        "\n",
        " - **Precision**: The ratio of correctly predicted positive observations to the total predicted positives.\n",
        "   - Formula: `Precision = TP / (TP + FP)`\n",
        "\n",
        " - **Recall (Sensitivity/True Positive Rate)**: The ratio of correctly predicted positive observations to all observations in the actual class.\n",
        "   - Formula: `Recall = TP / (TP + FN)`\n",
        "\n",
        " - **F1-Score**: The harmonic mean of precision and recall.\n",
        "   - Formula: `F1-Score = 2 * (Precision * Recall) / (Precision + Recall)`\n",
        "\n",
        "Let's calculate these metrics using an example scenario.\n",
        "\n",
        "**Scenario:**\n",
        "- Imagine you are building a model to predict mode choice with a dataset where only 1% of the observations used the mode car (i.e., imbalanced data).\n",
        "- Assume you have 10,000 observations, where 100 are mode car (positive class) and 9,900 are mode rail (negative class).\n",
        "\n",
        "### Task 2.1: Initial Model Evaluation\n",
        "Consider a model that predicts all transactions as rail (negative class).\n",
        "\n",
        "- a) Calculate the following metrics: Accuracy, Precision, Recall, F1-Score\n",
        "- b) What can you observe? Are all measures equally suitable for this task?\n"
      ]
    },
    {
      "cell_type": "markdown",
      "metadata": {
        "id": "j9Sf1E0kIFSJ"
      },
      "source": [
        "## Task 3: ROC Curve\n",
        "\n",
        "In this task the goal is to understand the ROC curve and how it can be used to identify the optimal threshold for a classification task with logistic regression."
      ]
    },
    {
      "cell_type": "markdown",
      "metadata": {
        "id": "KPqtk0IsLMNC"
      },
      "source": [
        "### Fit Logistic Regression Model\n",
        "First we are fitting a logistic regression model. The model internally predicts a probability, e.g., for the mode choice being car in our example.\n",
        "\n",
        "It is important to find the optimal threshold where we \"trust\" the model.\n",
        "\n",
        "Is 50% probability enough that we assign the label \"car\" to an observation? Or is maybe a threshold of 70% necessary to get a good result?"
      ]
    },
    {
      "cell_type": "code",
      "execution_count": 17,
      "metadata": {
        "colab": {
          "base_uri": "https://localhost:8080/",
          "height": 75
        },
        "id": "Wg1Vj_1MLIEe",
        "outputId": "fc6aecea-996a-4281-8c70-ccfb782d35de"
      },
      "outputs": [
        {
          "data": {
            "text/html": [
              "<style>#sk-container-id-1 {color: black;}#sk-container-id-1 pre{padding: 0;}#sk-container-id-1 div.sk-toggleable {background-color: white;}#sk-container-id-1 label.sk-toggleable__label {cursor: pointer;display: block;width: 100%;margin-bottom: 0;padding: 0.3em;box-sizing: border-box;text-align: center;}#sk-container-id-1 label.sk-toggleable__label-arrow:before {content: \"▸\";float: left;margin-right: 0.25em;color: #696969;}#sk-container-id-1 label.sk-toggleable__label-arrow:hover:before {color: black;}#sk-container-id-1 div.sk-estimator:hover label.sk-toggleable__label-arrow:before {color: black;}#sk-container-id-1 div.sk-toggleable__content {max-height: 0;max-width: 0;overflow: hidden;text-align: left;background-color: #f0f8ff;}#sk-container-id-1 div.sk-toggleable__content pre {margin: 0.2em;color: black;border-radius: 0.25em;background-color: #f0f8ff;}#sk-container-id-1 input.sk-toggleable__control:checked~div.sk-toggleable__content {max-height: 200px;max-width: 100%;overflow: auto;}#sk-container-id-1 input.sk-toggleable__control:checked~label.sk-toggleable__label-arrow:before {content: \"▾\";}#sk-container-id-1 div.sk-estimator input.sk-toggleable__control:checked~label.sk-toggleable__label {background-color: #d4ebff;}#sk-container-id-1 div.sk-label input.sk-toggleable__control:checked~label.sk-toggleable__label {background-color: #d4ebff;}#sk-container-id-1 input.sk-hidden--visually {border: 0;clip: rect(1px 1px 1px 1px);clip: rect(1px, 1px, 1px, 1px);height: 1px;margin: -1px;overflow: hidden;padding: 0;position: absolute;width: 1px;}#sk-container-id-1 div.sk-estimator {font-family: monospace;background-color: #f0f8ff;border: 1px dotted black;border-radius: 0.25em;box-sizing: border-box;margin-bottom: 0.5em;}#sk-container-id-1 div.sk-estimator:hover {background-color: #d4ebff;}#sk-container-id-1 div.sk-parallel-item::after {content: \"\";width: 100%;border-bottom: 1px solid gray;flex-grow: 1;}#sk-container-id-1 div.sk-label:hover label.sk-toggleable__label {background-color: #d4ebff;}#sk-container-id-1 div.sk-serial::before {content: \"\";position: absolute;border-left: 1px solid gray;box-sizing: border-box;top: 0;bottom: 0;left: 50%;z-index: 0;}#sk-container-id-1 div.sk-serial {display: flex;flex-direction: column;align-items: center;background-color: white;padding-right: 0.2em;padding-left: 0.2em;position: relative;}#sk-container-id-1 div.sk-item {position: relative;z-index: 1;}#sk-container-id-1 div.sk-parallel {display: flex;align-items: stretch;justify-content: center;background-color: white;position: relative;}#sk-container-id-1 div.sk-item::before, #sk-container-id-1 div.sk-parallel-item::before {content: \"\";position: absolute;border-left: 1px solid gray;box-sizing: border-box;top: 0;bottom: 0;left: 50%;z-index: -1;}#sk-container-id-1 div.sk-parallel-item {display: flex;flex-direction: column;z-index: 1;position: relative;background-color: white;}#sk-container-id-1 div.sk-parallel-item:first-child::after {align-self: flex-end;width: 50%;}#sk-container-id-1 div.sk-parallel-item:last-child::after {align-self: flex-start;width: 50%;}#sk-container-id-1 div.sk-parallel-item:only-child::after {width: 0;}#sk-container-id-1 div.sk-dashed-wrapped {border: 1px dashed gray;margin: 0 0.4em 0.5em 0.4em;box-sizing: border-box;padding-bottom: 0.4em;background-color: white;}#sk-container-id-1 div.sk-label label {font-family: monospace;font-weight: bold;display: inline-block;line-height: 1.2em;}#sk-container-id-1 div.sk-label-container {text-align: center;}#sk-container-id-1 div.sk-container {/* jupyter's `normalize.less` sets `[hidden] { display: none; }` but bootstrap.min.css set `[hidden] { display: none !important; }` so we also need the `!important` here to be able to override the default hidden behavior on the sphinx rendered scikit-learn.org. See: https://github.com/scikit-learn/scikit-learn/issues/21755 */display: inline-block !important;position: relative;}#sk-container-id-1 div.sk-text-repr-fallback {display: none;}</style><div id=\"sk-container-id-1\" class=\"sk-top-container\"><div class=\"sk-text-repr-fallback\"><pre>LogisticRegression()</pre><b>In a Jupyter environment, please rerun this cell to show the HTML representation or trust the notebook. <br />On GitHub, the HTML representation is unable to render, please try loading this page with nbviewer.org.</b></div><div class=\"sk-container\" hidden><div class=\"sk-item\"><div class=\"sk-estimator sk-toggleable\"><input class=\"sk-toggleable__control sk-hidden--visually\" id=\"sk-estimator-id-1\" type=\"checkbox\" checked><label for=\"sk-estimator-id-1\" class=\"sk-toggleable__label sk-toggleable__label-arrow\">LogisticRegression</label><div class=\"sk-toggleable__content\"><pre>LogisticRegression()</pre></div></div></div></div></div>"
            ],
            "text/plain": [
              "LogisticRegression()"
            ]
          },
          "execution_count": 17,
          "metadata": {},
          "output_type": "execute_result"
        }
      ],
      "source": [
        "from sklearn.model_selection import train_test_split\n",
        "from sklearn.linear_model import LogisticRegression\n",
        "\n",
        "y_train = y_train.map({'car': 1, 'rail': 0})\n",
        "y_test = y_test.map({'car': 1, 'rail': 0})\n",
        "\n",
        "# Train a logistic regression model\n",
        "model = LogisticRegression()\n",
        "model.fit(X_train_processed, y_train)"
      ]
    },
    {
      "cell_type": "markdown",
      "metadata": {
        "id": "n1fXI2MJRBi2"
      },
      "source": [
        "### Task 3.1: Interpret the ROC Curve\n",
        "\n",
        "One way to find the optimal parameter set for such a model in a binary classification setting is the Receiver Operating Characteristic (ROC) curve (see below).\n",
        "\n",
        "Now try to interprete with the lecture slides what this curve means and what information we can derive from it.\n",
        "\n",
        "- a) How would the optimal ROC curve look like?\n",
        "- b) How does the ROC curve supports us in finding the optimal threshold parameter?\n",
        "- c) Find the approximate FPR and TPR of the optimal threshold given the ROC curve below."
      ]
    },
    {
      "cell_type": "code",
      "execution_count": 18,
      "metadata": {
        "colab": {
          "base_uri": "https://localhost:8080/",
          "height": 564
        },
        "id": "uRRqB8Z8w7IV",
        "outputId": "87278dd2-314d-4a90-e83d-ce764bcbf96e"
      },
      "outputs": [
        {
          "data": {
            "image/png": "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",
            "text/plain": [
              "<Figure size 1000x600 with 1 Axes>"
            ]
          },
          "metadata": {},
          "output_type": "display_data"
        }
      ],
      "source": [
        "import matplotlib.pyplot as plt\n",
        "from sklearn.metrics import roc_curve, roc_auc_score\n",
        "\n",
        "# Predict probabilities for the test set\n",
        "y_probs = model.predict_proba(X_test_processed)[:, 1]\n",
        "\n",
        "# ## Part 2: Plotting the ROC Curve\n",
        "fpr, tpr, thresholds = roc_curve(y_test, y_probs)\n",
        "roc_auc = roc_auc_score(y_test, y_probs)\n",
        "\n",
        "plt.figure(figsize=(10, 6))\n",
        "plt.plot(fpr, tpr, label=f'Logistic Regression (AUC = {roc_auc:.2f})')\n",
        "plt.plot([0, 1], [0, 1], 'k--', label='Random Guess')\n",
        "plt.xlabel('False Positive Rate (FPR)')\n",
        "plt.ylabel('True Positive Rate (TPR)')\n",
        "plt.title('ROC Curve')\n",
        "plt.legend(loc='lower right')\n",
        "plt.show()"
      ]
    },
    {
      "cell_type": "markdown",
      "metadata": {
        "id": "lo76CbUtpDxV"
      },
      "source": [
        "### Determine the best threshold parameter"
      ]
    },
    {
      "cell_type": "code",
      "execution_count": 24,
      "metadata": {
        "colab": {
          "base_uri": "https://localhost:8080/"
        },
        "id": "Iqim_P7cVYkh",
        "outputId": "5ac187cf-8d87-44fc-e476-8ddaa73a6f6f"
      },
      "outputs": [
        {
          "data": {
            "text/plain": [
              "0.4675013198257838"
            ]
          },
          "execution_count": 24,
          "metadata": {},
          "output_type": "execute_result"
        }
      ],
      "source": [
        "# calculate the distance to the top-left corner (0, 1) for each threshold\n",
        "distances = np.sqrt((1 - tpr) ** 2 + fpr ** 2)\n",
        "\n",
        "# find the index of the smallest distance\n",
        "optimal_index = np.argmin(distances)\n",
        "\n",
        "# get the optimal threshold\n",
        "optimal_threshold = thresholds[optimal_index]\n",
        "optimal_threshold"
      ]
    },
    {
      "cell_type": "markdown",
      "metadata": {
        "id": "CqHqAc8spWYP"
      },
      "source": [
        "### Find the TPR, FPR of this threshold"
      ]
    },
    {
      "cell_type": "code",
      "execution_count": 27,
      "metadata": {
        "id": "MZNLrXNCpVQA"
      },
      "outputs": [],
      "source": [
        "# print(fpr[optimal_index])\n",
        "# print(tpr[optimal_index])"
      ]
    }
  ],
  "metadata": {
    "colab": {
      "provenance": []
    },
    "kernelspec": {
      "display_name": "Python 3",
      "name": "python3"
    },
    "language_info": {
      "name": "python"
    }
  },
  "nbformat": 4,
  "nbformat_minor": 0
=======
 "nbformat": 4,
 "nbformat_minor": 0,
 "metadata": {
  "colab": {
   "provenance": []
  },
  "kernelspec": {
   "name": "python3",
   "language": "python",
   "display_name": "Python 3 (ipykernel)"
  },
  "language_info": {
   "name": "python"
  }
 },
 "cells": [
  {
   "cell_type": "markdown",
   "source": [
    "# Exercise 3: Mode choice classification\n",
    "\n",
    "Transportation mode choice is a critical decision-making process that individuals, businesses, and urban planners face daily. It involves selecting the most suitable mode of transportation for a given journey/trip, taking into account factors such as cost, time, convenience, and environmental impact. In this tutorial, we will explore how to address the mode choice problem using classification models.\n",
    "\n",
    "**Key points to cover:**\n",
    "\n",
    "* Mode choice problem;\n",
    "* *Encoding techniques* for categorical variables\n",
    "* Classification models *implementation*\n",
    "* Classification models *evaluation metrics*\n"
   ],
   "metadata": {
    "id": "R__DcXTj-zbL"
   }
  },
  {
   "cell_type": "code",
   "execution_count": 1,
   "metadata": {
    "id": "121uD1UhQ_-X",
    "ExecuteTime": {
     "end_time": "2024-09-02T11:40:25.649298Z",
     "start_time": "2024-09-02T11:40:25.625215Z"
    }
   },
   "outputs": [],
   "source": [
    "import pandas as pd\n",
    "from statistics import mode\n",
    "import numpy as np\n",
    "import os"
   ]
  },
  {
   "cell_type": "markdown",
   "source": [
    "## Loading the dataset"
   ],
   "metadata": {
    "id": "08qMPRhP_ci_"
   }
  },
  {
   "cell_type": "code",
   "source": [
    "# The path of the dataset\n",
    "url = 'https://raw.githubusercontent.com/zhenliangma/Applied-AI-in-Transportation/master/Exercise_3_Mode_choice_model/modeChoiceData.csv'\n",
    "# Load the data use the pandas\n",
    "moide_choice_data = pd.read_csv(url)"
   ],
   "metadata": {
    "id": "Ap0p7etz_bgX",
    "ExecuteTime": {
     "end_time": "2024-09-02T11:40:27.890811Z",
     "start_time": "2024-09-02T11:40:27.412793Z"
    }
   },
   "execution_count": 2,
   "outputs": []
  },
  {
   "cell_type": "markdown",
   "source": [
    "## Data Preparation\n",
    "\n",
    "Transform the dataset into a binary classification problem: car vs. rail."
   ],
   "metadata": {
    "id": "ug2z8HSFiFua"
   }
  },
  {
   "cell_type": "code",
   "source": [
    "mode_choice_car_df = (\n",
    "    moide_choice_data.loc[moide_choice_data[\"choice\"].isin([\"car\", \"rail\"]),\n",
    "     [\"time_car\", \"cost_car\", \"time_rail\", \"cost_rail\", \"access_rail\", \"service_rail\", \"choice\"]]\n",
    "    .reset_index()\n",
    "    .drop(columns=[\"index\"])\n",
    ")"
   ],
   "metadata": {
    "id": "LIXnje53RCM8",
    "ExecuteTime": {
     "end_time": "2024-09-02T11:40:32.974361Z",
     "start_time": "2024-09-02T11:40:32.966193Z"
    }
   },
   "execution_count": 3,
   "outputs": []
  },
  {
   "cell_type": "markdown",
   "source": [
    "Check the distribution of the classes:"
   ],
   "metadata": {
    "id": "_J1clfo5oO43"
   }
  },
  {
   "cell_type": "code",
   "source": [
    "import seaborn as sns\n",
    "import matplotlib.pyplot as plt\n",
    "\n",
    "# Assuming the classes are stored in a column called 'class'\n",
    "sns.countplot(data=mode_choice_car_df, x='choice')\n",
    "\n",
    "# Add title and labels\n",
    "plt.title('Distribution of Classes')\n",
    "plt.xlabel('Class')\n",
    "plt.ylabel('Count')\n",
    "\n",
    "# Show the plot\n",
    "plt.show()"
   ],
   "metadata": {
    "colab": {
     "base_uri": "https://localhost:8080/",
     "height": 472
    },
    "id": "C1pIrz7voMky",
    "outputId": "a0c35651-1e23-46e5-abcf-a0813aae6853",
    "ExecuteTime": {
     "end_time": "2024-09-02T11:40:38.094982Z",
     "start_time": "2024-09-02T11:40:37.959148Z"
    }
   },
   "execution_count": 4,
   "outputs": [
    {
     "data": {
      "text/plain": "<Figure size 640x480 with 1 Axes>",
      "image/png": "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"
     },
     "metadata": {},
     "output_type": "display_data"
    }
   ]
  },
  {
   "cell_type": "code",
   "source": [
    "mode_choice_car_df.head(10)"
   ],
   "metadata": {
    "colab": {
     "base_uri": "https://localhost:8080/",
     "height": 363
    },
    "id": "jDGQL7Gnoy8C",
    "outputId": "24de7a26-30b8-44c5-9644-486c00e49977",
    "ExecuteTime": {
     "end_time": "2024-09-02T11:40:42.968264Z",
     "start_time": "2024-09-02T11:40:42.958900Z"
    }
   },
   "execution_count": 5,
   "outputs": [
    {
     "data": {
      "text/plain": "   time_car  cost_car  time_rail  cost_rail  access_rail service_rail choice\n0       275        45        170         55           25         food   rail\n1       275        45        155         35            5    no-frills   rail\n2       300        45        155         65           20    no-frills   rail\n3       390        35        155         65           15         food   rail\n4       275        40        155         55            5         food   rail\n5       250        50        120         65           20         wifi   rail\n6       275        30        155         65           25         wifi    car\n7       300        45        170         45            5    no-frills   rail\n8       345        30        140         65           15    no-frills    car\n9       250        40        140         75           20         wifi    car",
      "text/html": "<div>\n<style scoped>\n    .dataframe tbody tr th:only-of-type {\n        vertical-align: middle;\n    }\n\n    .dataframe tbody tr th {\n        vertical-align: top;\n    }\n\n    .dataframe thead th {\n        text-align: right;\n    }\n</style>\n<table border=\"1\" class=\"dataframe\">\n  <thead>\n    <tr style=\"text-align: right;\">\n      <th></th>\n      <th>time_car</th>\n      <th>cost_car</th>\n      <th>time_rail</th>\n      <th>cost_rail</th>\n      <th>access_rail</th>\n      <th>service_rail</th>\n      <th>choice</th>\n    </tr>\n  </thead>\n  <tbody>\n    <tr>\n      <th>0</th>\n      <td>275</td>\n      <td>45</td>\n      <td>170</td>\n      <td>55</td>\n      <td>25</td>\n      <td>food</td>\n      <td>rail</td>\n    </tr>\n    <tr>\n      <th>1</th>\n      <td>275</td>\n      <td>45</td>\n      <td>155</td>\n      <td>35</td>\n      <td>5</td>\n      <td>no-frills</td>\n      <td>rail</td>\n    </tr>\n    <tr>\n      <th>2</th>\n      <td>300</td>\n      <td>45</td>\n      <td>155</td>\n      <td>65</td>\n      <td>20</td>\n      <td>no-frills</td>\n      <td>rail</td>\n    </tr>\n    <tr>\n      <th>3</th>\n      <td>390</td>\n      <td>35</td>\n      <td>155</td>\n      <td>65</td>\n      <td>15</td>\n      <td>food</td>\n      <td>rail</td>\n    </tr>\n    <tr>\n      <th>4</th>\n      <td>275</td>\n      <td>40</td>\n      <td>155</td>\n      <td>55</td>\n      <td>5</td>\n      <td>food</td>\n      <td>rail</td>\n    </tr>\n    <tr>\n      <th>5</th>\n      <td>250</td>\n      <td>50</td>\n      <td>120</td>\n      <td>65</td>\n      <td>20</td>\n      <td>wifi</td>\n      <td>rail</td>\n    </tr>\n    <tr>\n      <th>6</th>\n      <td>275</td>\n      <td>30</td>\n      <td>155</td>\n      <td>65</td>\n      <td>25</td>\n      <td>wifi</td>\n      <td>car</td>\n    </tr>\n    <tr>\n      <th>7</th>\n      <td>300</td>\n      <td>45</td>\n      <td>170</td>\n      <td>45</td>\n      <td>5</td>\n      <td>no-frills</td>\n      <td>rail</td>\n    </tr>\n    <tr>\n      <th>8</th>\n      <td>345</td>\n      <td>30</td>\n      <td>140</td>\n      <td>65</td>\n      <td>15</td>\n      <td>no-frills</td>\n      <td>car</td>\n    </tr>\n    <tr>\n      <th>9</th>\n      <td>250</td>\n      <td>40</td>\n      <td>140</td>\n      <td>75</td>\n      <td>20</td>\n      <td>wifi</td>\n      <td>car</td>\n    </tr>\n  </tbody>\n</table>\n</div>"
     },
     "execution_count": 5,
     "metadata": {},
     "output_type": "execute_result"
    }
   ]
  },
  {
   "cell_type": "markdown",
   "source": [
    "Get to know the different values for the categorical variable *service rail*."
   ],
   "metadata": {
    "id": "_kbmqIKe_o_r"
   }
  },
  {
   "cell_type": "code",
   "source": [
    "mode_choice_car_df.service_rail.unique()"
   ],
   "metadata": {
    "colab": {
     "base_uri": "https://localhost:8080/"
    },
    "id": "xYPlPLYAByX0",
    "outputId": "41e4fe84-f5ca-4bba-df43-e797163f5a0e",
    "ExecuteTime": {
     "end_time": "2024-09-02T11:40:52.395433Z",
     "start_time": "2024-09-02T11:40:52.391137Z"
    }
   },
   "execution_count": 6,
   "outputs": [
    {
     "data": {
      "text/plain": "array(['food', 'no-frills', 'wifi'], dtype=object)"
     },
     "execution_count": 6,
     "metadata": {},
     "output_type": "execute_result"
    }
   ]
  },
  {
   "cell_type": "markdown",
   "source": [
    "Get an overview about the statistics of the numerical columns:"
   ],
   "metadata": {
    "id": "B78canKCB2_i"
   }
  },
  {
   "cell_type": "code",
   "source": [
    "mode_choice_car_df.describe()"
   ],
   "metadata": {
    "colab": {
     "base_uri": "https://localhost:8080/",
     "height": 300
    },
    "id": "dqd3oJ9Epqw7",
    "outputId": "8d7a467c-09d1-42fb-9519-76865e927845",
    "ExecuteTime": {
     "end_time": "2024-09-02T11:40:57.689197Z",
     "start_time": "2024-09-02T11:40:57.671508Z"
    }
   },
   "execution_count": 7,
   "outputs": [
    {
     "data": {
      "text/plain": "          time_car     cost_car    time_rail    cost_rail  access_rail\ncount  2266.000000  2266.000000  2266.000000  2266.000000  2266.000000\nmean    310.505296    40.083848   143.175199    53.415711    15.037511\nstd      49.424710     6.988924    18.236603    14.285212     7.127716\nmin     250.000000    30.000000   120.000000    35.000000     5.000000\n25%     275.000000    35.000000   130.000000    45.000000    10.000000\n50%     300.000000    40.000000   140.000000    55.000000    15.000000\n75%     345.000000    45.000000   155.000000    65.000000    20.000000\nmax     390.000000    50.000000   170.000000    75.000000    25.000000",
      "text/html": "<div>\n<style scoped>\n    .dataframe tbody tr th:only-of-type {\n        vertical-align: middle;\n    }\n\n    .dataframe tbody tr th {\n        vertical-align: top;\n    }\n\n    .dataframe thead th {\n        text-align: right;\n    }\n</style>\n<table border=\"1\" class=\"dataframe\">\n  <thead>\n    <tr style=\"text-align: right;\">\n      <th></th>\n      <th>time_car</th>\n      <th>cost_car</th>\n      <th>time_rail</th>\n      <th>cost_rail</th>\n      <th>access_rail</th>\n    </tr>\n  </thead>\n  <tbody>\n    <tr>\n      <th>count</th>\n      <td>2266.000000</td>\n      <td>2266.000000</td>\n      <td>2266.000000</td>\n      <td>2266.000000</td>\n      <td>2266.000000</td>\n    </tr>\n    <tr>\n      <th>mean</th>\n      <td>310.505296</td>\n      <td>40.083848</td>\n      <td>143.175199</td>\n      <td>53.415711</td>\n      <td>15.037511</td>\n    </tr>\n    <tr>\n      <th>std</th>\n      <td>49.424710</td>\n      <td>6.988924</td>\n      <td>18.236603</td>\n      <td>14.285212</td>\n      <td>7.127716</td>\n    </tr>\n    <tr>\n      <th>min</th>\n      <td>250.000000</td>\n      <td>30.000000</td>\n      <td>120.000000</td>\n      <td>35.000000</td>\n      <td>5.000000</td>\n    </tr>\n    <tr>\n      <th>25%</th>\n      <td>275.000000</td>\n      <td>35.000000</td>\n      <td>130.000000</td>\n      <td>45.000000</td>\n      <td>10.000000</td>\n    </tr>\n    <tr>\n      <th>50%</th>\n      <td>300.000000</td>\n      <td>40.000000</td>\n      <td>140.000000</td>\n      <td>55.000000</td>\n      <td>15.000000</td>\n    </tr>\n    <tr>\n      <th>75%</th>\n      <td>345.000000</td>\n      <td>45.000000</td>\n      <td>155.000000</td>\n      <td>65.000000</td>\n      <td>20.000000</td>\n    </tr>\n    <tr>\n      <th>max</th>\n      <td>390.000000</td>\n      <td>50.000000</td>\n      <td>170.000000</td>\n      <td>75.000000</td>\n      <td>25.000000</td>\n    </tr>\n  </tbody>\n</table>\n</div>"
     },
     "execution_count": 7,
     "metadata": {},
     "output_type": "execute_result"
    }
   ]
  },
  {
   "cell_type": "markdown",
   "source": [
    "### Train-Test Split\n",
    "\n",
    "We divide the data first into its explaining variables/features (X) and the variable that we want to predict/target (y).\n",
    "\n",
    "Afterwards we create a train and test set with a 80%/20% split."
   ],
   "metadata": {
    "id": "VdOghmNYplJe"
   }
  },
  {
   "cell_type": "code",
   "source": [
    "from sklearn.model_selection import train_test_split\n",
    "\n",
    "X = mode_choice_car_df.drop(columns=[\"choice\"])\n",
    "y = mode_choice_car_df[\"choice\"]\n",
    "\n",
    "X_train, X_test, y_train, y_test = train_test_split(X, y, test_size=0.2, random_state=0)"
   ],
   "metadata": {
    "id": "iT2X2dEbbzhA",
    "ExecuteTime": {
     "end_time": "2024-09-02T11:42:18.398366Z",
     "start_time": "2024-09-02T11:42:18.370865Z"
    }
   },
   "execution_count": 12,
   "outputs": []
  },
  {
   "cell_type": "code",
   "source": [
    "X_train.head()"
   ],
   "metadata": {
    "colab": {
     "base_uri": "https://localhost:8080/",
     "height": 206
    },
    "id": "rbDd-RyPCuCm",
    "outputId": "5039cc61-68e1-45b8-921a-7fe370a72f50",
    "ExecuteTime": {
     "end_time": "2024-09-02T11:42:19.174268Z",
     "start_time": "2024-09-02T11:42:19.167510Z"
    }
   },
   "execution_count": 13,
   "outputs": [
    {
     "data": {
      "text/plain": "      time_car  cost_car  time_rail  cost_rail  access_rail service_rail\n1150       250        45        170         35           15         food\n1538       275        35        140         65           20         food\n1254       300        40        140         55           25         food\n1843       345        45        130         45           10    no-frills\n977        345        35        140         45           25         food",
      "text/html": "<div>\n<style scoped>\n    .dataframe tbody tr th:only-of-type {\n        vertical-align: middle;\n    }\n\n    .dataframe tbody tr th {\n        vertical-align: top;\n    }\n\n    .dataframe thead th {\n        text-align: right;\n    }\n</style>\n<table border=\"1\" class=\"dataframe\">\n  <thead>\n    <tr style=\"text-align: right;\">\n      <th></th>\n      <th>time_car</th>\n      <th>cost_car</th>\n      <th>time_rail</th>\n      <th>cost_rail</th>\n      <th>access_rail</th>\n      <th>service_rail</th>\n    </tr>\n  </thead>\n  <tbody>\n    <tr>\n      <th>1150</th>\n      <td>250</td>\n      <td>45</td>\n      <td>170</td>\n      <td>35</td>\n      <td>15</td>\n      <td>food</td>\n    </tr>\n    <tr>\n      <th>1538</th>\n      <td>275</td>\n      <td>35</td>\n      <td>140</td>\n      <td>65</td>\n      <td>20</td>\n      <td>food</td>\n    </tr>\n    <tr>\n      <th>1254</th>\n      <td>300</td>\n      <td>40</td>\n      <td>140</td>\n      <td>55</td>\n      <td>25</td>\n      <td>food</td>\n    </tr>\n    <tr>\n      <th>1843</th>\n      <td>345</td>\n      <td>45</td>\n      <td>130</td>\n      <td>45</td>\n      <td>10</td>\n      <td>no-frills</td>\n    </tr>\n    <tr>\n      <th>977</th>\n      <td>345</td>\n      <td>35</td>\n      <td>140</td>\n      <td>45</td>\n      <td>25</td>\n      <td>food</td>\n    </tr>\n  </tbody>\n</table>\n</div>"
     },
     "execution_count": 13,
     "metadata": {},
     "output_type": "execute_result"
    }
   ]
  },
  {
   "cell_type": "markdown",
   "source": [
    "### Scaling and Encoding the features\n",
    "\n",
    "We remember: especially for distance calculations we need to scale the features to ensure equal influence.\n",
    "\n",
    "Furthermore, we have a categorical variable in our dataset: *service_rail*. We need to treat this variable by an encoding technique before using it. In this case we have decided for one-hot encoding.\n"
   ],
   "metadata": {
    "id": "2oxjUFBZpVaq"
   }
  },
  {
   "cell_type": "code",
   "source": [
    "from sklearn.preprocessing import StandardScaler, OneHotEncoder\n",
    "\n",
    "# Define which columns should be encoded vs scaled\n",
    "columns_to_encode = [\"service_rail\"]\n",
    "columns_to_scale  = [\"time_car\", \"cost_car\", \"time_rail\", \"cost_rail\", \"access_rail\"]\n",
    "\n",
    "# Instantiate encoder/scaler\n",
    "scaler = StandardScaler()\n",
    "ohe = OneHotEncoder(sparse=False)\n",
    "\n",
    "# Scale and Encode Separate Columns\n",
    "X_train_scaled_columns  = scaler.fit_transform(X_train[columns_to_scale])\n",
    "X_train_encoded_columns = ohe.fit_transform(X_train[columns_to_encode])\n",
    "\n",
    "X_test_scaled_columns  = scaler.fit_transform(X_test[columns_to_scale])\n",
    "X_test_encoded_columns = ohe.fit_transform(X_test[columns_to_encode])\n",
    "\n",
    "# Concatenate (Column-Bind) Processed Columns Back Together\n",
    "X_train_processed = np.concatenate([X_train_scaled_columns, X_train_encoded_columns], axis=1)\n",
    "X_test_processed = np.concatenate([X_test_scaled_columns, X_test_encoded_columns], axis=1)"
   ],
   "metadata": {
    "colab": {
     "base_uri": "https://localhost:8080/"
    },
    "id": "f3ZwFGzjCDhz",
    "outputId": "8bb55c5f-08ea-4998-e871-79bffacb9b49",
    "ExecuteTime": {
     "end_time": "2024-09-02T11:42:20.719033Z",
     "start_time": "2024-09-02T11:42:20.702643Z"
    }
   },
   "execution_count": 14,
   "outputs": [
    {
     "name": "stderr",
     "output_type": "stream",
     "text": [
      "/Applications/anaconda3/lib/python3.11/site-packages/sklearn/preprocessing/_encoders.py:972: FutureWarning: `sparse` was renamed to `sparse_output` in version 1.2 and will be removed in 1.4. `sparse_output` is ignored unless you leave `sparse` to its default value.\n",
      "  warnings.warn(\n",
      "/Applications/anaconda3/lib/python3.11/site-packages/sklearn/preprocessing/_encoders.py:972: FutureWarning: `sparse` was renamed to `sparse_output` in version 1.2 and will be removed in 1.4. `sparse_output` is ignored unless you leave `sparse` to its default value.\n",
      "  warnings.warn(\n"
     ]
    }
   ]
  },
  {
   "cell_type": "markdown",
   "source": [
    "## Task 1: Build your own KNN classifier\n",
    "\n",
    "Your task is now to implement the KNN algorithm yourself. Return the classification of the unclassified point (*X_unclassified*).\n",
    "\n",
    "Python methods that might be helpful:\n",
    "- **for-loop**: ```for value in mylist:```\n",
    "- **Append values to a list:** ```my_list.append(value)```\n",
    "- **Get the indices of the n smallest values of the list mylist**: ```np.argsort(my_list)[:n]```\n",
    "- **Gets the values from a pandas series at the location of the given indices**: ```y_train.iloc[indices]```\n",
    "- **Get the most frequent element in a list**: ```mode(mylist)```"
   ],
   "metadata": {
    "id": "1t3aWEJFit7B"
   }
  },
  {
   "cell_type": "markdown",
   "source": [
    "### Implement Distance Function\n",
    "\n",
    "The euclidean distance function allows to determine the distance between two points."
   ],
   "metadata": {
    "id": "ZHBRIc74Sfe9"
   }
  },
  {
   "cell_type": "code",
   "source": [
    "def euclidean_distance(point1, point2):\n",
    "  # go through the features of point1 and 2\n",
    "  current_sum = 0\n",
    "  for i in range(0, len(point1)):\n",
    "    # calculate their squared difference and sum it\n",
    "    current_sum += (point1[i]-point2[i])**2\n",
    "\n",
    "  # calculate the square root from the summed distances\n",
    "  distance = np.sqrt(current_sum)\n",
    "\n",
    "  return distance"
   ],
   "metadata": {
    "id": "_jtyTSf6SbwQ",
    "ExecuteTime": {
     "end_time": "2024-09-02T11:41:33.607837Z",
     "start_time": "2024-09-02T11:41:33.604510Z"
    }
   },
   "execution_count": 11,
   "outputs": []
  },
  {
   "cell_type": "markdown",
   "source": [
    "### Code of your own KNN classifier:"
   ],
   "metadata": {
    "id": "-9Mt8yEksSYa"
   }
  },
  {
   "cell_type": "code",
   "source": [
    "from scipy.stats import mode\n",
    "\n",
    "def custom_knn(X_train, y_train, X_unclassified, k):\n",
    "    # List to store the distances between the unclassified point and each training point\n",
    "    distances = []\n",
    "\n",
    "    # Calculate the Euclidean distance from the unclassified point to each training point\n",
    "    for train_point in X_train:\n",
    "        distance = euclidean_distance(train_point, X_unclassified)\n",
    "        distances.append(distance)\n",
    "\n",
    "    # Convert distances to a NumPy array for indexing\n",
    "    distances = np.array(distances)\n",
    "\n",
    "    # Get the indices of the k smallest distances\n",
    "    nearest_indices = np.argsort(distances)[:k]\n",
    "\n",
    "    # Use iloc to get the values from y_train at the position of the nearest indices\n",
    "    nearest_classes = y_train.iloc[nearest_indices]\n",
    "\n",
    "    # Determine the most frequent classification among the nearest neighbors\n",
    "    classification = mode(nearest_classes).mode[0]\n",
    "\n",
    "    return classification\n"
   ],
   "metadata": {
    "id": "o2Kks1rmiv0K",
    "ExecuteTime": {
     "end_time": "2024-09-02T12:06:30.684516Z",
     "start_time": "2024-09-02T12:06:30.676437Z"
    }
   },
   "execution_count": 31,
   "outputs": []
  },
  {
   "cell_type": "markdown",
   "source": [
    "### Make a prediction"
   ],
   "metadata": {
    "id": "sB-U4w9Zq35d"
   }
  },
  {
   "cell_type": "code",
   "source": [
    "custom_knn(X_train_processed, y_train, X_test_processed[0], 5)"
   ],
   "metadata": {
    "id": "hrQD7LTIbTSX",
    "ExecuteTime": {
     "end_time": "2024-09-02T12:06:34.608801Z",
     "start_time": "2024-09-02T12:06:34.596130Z"
    }
   },
   "execution_count": 32,
   "outputs": [
    {
     "data": {
      "text/plain": "'rail'"
     },
     "execution_count": 32,
     "metadata": {},
     "output_type": "execute_result"
    }
   ]
  },
  {
   "cell_type": "markdown",
   "source": [
    "### Compare with the true class"
   ],
   "metadata": {
    "id": "TWecmtnKw2V2"
   }
  },
  {
   "cell_type": "code",
   "source": [
    "y_test.iloc[0]"
   ],
   "metadata": {
    "id": "J5wEborXc7vd",
    "ExecuteTime": {
     "end_time": "2024-09-02T12:06:47.558209Z",
     "start_time": "2024-09-02T12:06:47.540906Z"
    }
   },
   "execution_count": 33,
   "outputs": [
    {
     "data": {
      "text/plain": "'rail'"
     },
     "execution_count": 33,
     "metadata": {},
     "output_type": "execute_result"
    }
   ]
  },
  {
   "cell_type": "markdown",
   "source": [
    "## Task 2: Understand Classification Evaluation Metrics\n",
    "\n",
    " - **Accuracy**: The ratio of correctly predicted instances to the total instances.\n",
    "   - Formula: `Accuracy = (TP + TN) / (TP + TN + FP + FN)`\n",
    "\n",
    " - **Precision**: The ratio of correctly predicted positive observations to the total predicted positives.\n",
    "   - Formula: `Precision = TP / (TP + FP)`\n",
    "\n",
    " - **Recall (Sensitivity/True Positive Rate)**: The ratio of correctly predicted positive observations to all observations in the actual class.\n",
    "   - Formula: `Recall = TP / (TP + FN)`\n",
    "\n",
    " - **F1-Score**: The harmonic mean of precision and recall.\n",
    "   - Formula: `F1-Score = 2 * (Precision * Recall) / (Precision + Recall)`\n",
    "\n",
    "Let's calculate these metrics using an example scenario.\n",
    "\n",
    "**Scenario:**\n",
    "- Imagine you are building a model to predict mode choice with a dataset where only 1% of the observations used the mode car (i.e., imbalanced data).\n",
    "- Assume you have 10,000 observations, where 100 are mode car (positive class) and 9,900 are mode rail (negative class).\n",
    "\n",
    "### Task 2.1: Initial Model Evaluation\n",
    "Consider a model that predicts all transactions as rail (negative class).\n",
    "\n",
    "- a) Calculate the following metrics: Accuracy, Precision, Recall, F1-Score\n",
    "- b) What can you observe? Are all measures equally suitable for this task?\n"
   ],
   "metadata": {
    "id": "nQYuQ4zax4KE"
   }
  },
  {
   "cell_type": "markdown",
   "source": [
    "## Task 3: ROC Curve\n",
    "\n",
    "In this task the goal is to understand the ROC curve and how it can be used to identify the optimal threshold for a classification task with logistic regression."
   ],
   "metadata": {
    "id": "j9Sf1E0kIFSJ"
   }
  },
  {
   "cell_type": "markdown",
   "source": [
    "### Fit Logistic Regression Model\n",
    "First we are fitting a logistic regression model. The model internally predicts a probability, e.g., for the mode choice being car in our example.\n",
    "\n",
    "It is important to find the optimal threshold where we \"trust\" the model.\n",
    "\n",
    "Is 50% probability enough that we assign the label \"car\" to an observation? Or is maybe a threshold of 70% necessary to get a good result?"
   ],
   "metadata": {
    "id": "KPqtk0IsLMNC"
   }
  },
  {
   "cell_type": "code",
   "source": [
    "from sklearn.model_selection import train_test_split\n",
    "from sklearn.linear_model import LogisticRegression\n",
    "\n",
    "y_train = y_train.map({'car': 1, 'rail': 0})\n",
    "y_test = y_test.map({'car': 1, 'rail': 0})\n",
    "\n",
    "# Train a logistic regression model\n",
    "model = LogisticRegression()\n",
    "model.fit(X_train_processed, y_train)"
   ],
   "metadata": {
    "id": "Wg1Vj_1MLIEe",
    "colab": {
     "base_uri": "https://localhost:8080/",
     "height": 75
    },
    "outputId": "fc6aecea-996a-4281-8c70-ccfb782d35de",
    "ExecuteTime": {
     "end_time": "2024-09-02T12:06:57.054803Z",
     "start_time": "2024-09-02T12:06:56.446033Z"
    }
   },
   "execution_count": 34,
   "outputs": [
    {
     "data": {
      "text/plain": "LogisticRegression()",
      "text/html": "<style>#sk-container-id-1 {color: black;}#sk-container-id-1 pre{padding: 0;}#sk-container-id-1 div.sk-toggleable {background-color: white;}#sk-container-id-1 label.sk-toggleable__label {cursor: pointer;display: block;width: 100%;margin-bottom: 0;padding: 0.3em;box-sizing: border-box;text-align: center;}#sk-container-id-1 label.sk-toggleable__label-arrow:before {content: \"▸\";float: left;margin-right: 0.25em;color: #696969;}#sk-container-id-1 label.sk-toggleable__label-arrow:hover:before {color: black;}#sk-container-id-1 div.sk-estimator:hover label.sk-toggleable__label-arrow:before {color: black;}#sk-container-id-1 div.sk-toggleable__content {max-height: 0;max-width: 0;overflow: hidden;text-align: left;background-color: #f0f8ff;}#sk-container-id-1 div.sk-toggleable__content pre {margin: 0.2em;color: black;border-radius: 0.25em;background-color: #f0f8ff;}#sk-container-id-1 input.sk-toggleable__control:checked~div.sk-toggleable__content {max-height: 200px;max-width: 100%;overflow: auto;}#sk-container-id-1 input.sk-toggleable__control:checked~label.sk-toggleable__label-arrow:before {content: \"▾\";}#sk-container-id-1 div.sk-estimator input.sk-toggleable__control:checked~label.sk-toggleable__label {background-color: #d4ebff;}#sk-container-id-1 div.sk-label input.sk-toggleable__control:checked~label.sk-toggleable__label {background-color: #d4ebff;}#sk-container-id-1 input.sk-hidden--visually {border: 0;clip: rect(1px 1px 1px 1px);clip: rect(1px, 1px, 1px, 1px);height: 1px;margin: -1px;overflow: hidden;padding: 0;position: absolute;width: 1px;}#sk-container-id-1 div.sk-estimator {font-family: monospace;background-color: #f0f8ff;border: 1px dotted black;border-radius: 0.25em;box-sizing: border-box;margin-bottom: 0.5em;}#sk-container-id-1 div.sk-estimator:hover {background-color: #d4ebff;}#sk-container-id-1 div.sk-parallel-item::after {content: \"\";width: 100%;border-bottom: 1px solid gray;flex-grow: 1;}#sk-container-id-1 div.sk-label:hover label.sk-toggleable__label {background-color: #d4ebff;}#sk-container-id-1 div.sk-serial::before {content: \"\";position: absolute;border-left: 1px solid gray;box-sizing: border-box;top: 0;bottom: 0;left: 50%;z-index: 0;}#sk-container-id-1 div.sk-serial {display: flex;flex-direction: column;align-items: center;background-color: white;padding-right: 0.2em;padding-left: 0.2em;position: relative;}#sk-container-id-1 div.sk-item {position: relative;z-index: 1;}#sk-container-id-1 div.sk-parallel {display: flex;align-items: stretch;justify-content: center;background-color: white;position: relative;}#sk-container-id-1 div.sk-item::before, #sk-container-id-1 div.sk-parallel-item::before {content: \"\";position: absolute;border-left: 1px solid gray;box-sizing: border-box;top: 0;bottom: 0;left: 50%;z-index: -1;}#sk-container-id-1 div.sk-parallel-item {display: flex;flex-direction: column;z-index: 1;position: relative;background-color: white;}#sk-container-id-1 div.sk-parallel-item:first-child::after {align-self: flex-end;width: 50%;}#sk-container-id-1 div.sk-parallel-item:last-child::after {align-self: flex-start;width: 50%;}#sk-container-id-1 div.sk-parallel-item:only-child::after {width: 0;}#sk-container-id-1 div.sk-dashed-wrapped {border: 1px dashed gray;margin: 0 0.4em 0.5em 0.4em;box-sizing: border-box;padding-bottom: 0.4em;background-color: white;}#sk-container-id-1 div.sk-label label {font-family: monospace;font-weight: bold;display: inline-block;line-height: 1.2em;}#sk-container-id-1 div.sk-label-container {text-align: center;}#sk-container-id-1 div.sk-container {/* jupyter's `normalize.less` sets `[hidden] { display: none; }` but bootstrap.min.css set `[hidden] { display: none !important; }` so we also need the `!important` here to be able to override the default hidden behavior on the sphinx rendered scikit-learn.org. See: https://github.com/scikit-learn/scikit-learn/issues/21755 */display: inline-block !important;position: relative;}#sk-container-id-1 div.sk-text-repr-fallback {display: none;}</style><div id=\"sk-container-id-1\" class=\"sk-top-container\"><div class=\"sk-text-repr-fallback\"><pre>LogisticRegression()</pre><b>In a Jupyter environment, please rerun this cell to show the HTML representation or trust the notebook. <br />On GitHub, the HTML representation is unable to render, please try loading this page with nbviewer.org.</b></div><div class=\"sk-container\" hidden><div class=\"sk-item\"><div class=\"sk-estimator sk-toggleable\"><input class=\"sk-toggleable__control sk-hidden--visually\" id=\"sk-estimator-id-1\" type=\"checkbox\" checked><label for=\"sk-estimator-id-1\" class=\"sk-toggleable__label sk-toggleable__label-arrow\">LogisticRegression</label><div class=\"sk-toggleable__content\"><pre>LogisticRegression()</pre></div></div></div></div></div>"
     },
     "execution_count": 34,
     "metadata": {},
     "output_type": "execute_result"
    }
   ]
  },
  {
   "cell_type": "markdown",
   "source": [
    "### Task 3.1: Interpret the ROC Curve\n",
    "\n",
    "One way to find the optimal parameter set for such a model in a binary classification setting is the Receiver Operating Characteristic (ROC) curve (see below).\n",
    "\n",
    "Now try to interprete with the lecture slides what this curve means and what information we can derive from it.\n",
    "\n",
    "- a) How would the optimal ROC curve look like?\n",
    "- b) How does the ROC curve supports us in finding the optimal threshold parameter?\n",
    "- c) Find the approximate FPR and TPR of the optimal threshold given the ROC curve below."
   ],
   "metadata": {
    "id": "n1fXI2MJRBi2"
   }
  },
  {
   "cell_type": "code",
   "source": [
    "import matplotlib.pyplot as plt\n",
    "from sklearn.metrics import roc_curve, roc_auc_score\n",
    "\n",
    "# Predict probabilities for the test set\n",
    "y_probs = model.predict_proba(X_test_processed)[:, 1]\n",
    "\n",
    "# ## Part 2: Plotting the ROC Curve\n",
    "fpr, tpr, thresholds = roc_curve(y_test, y_probs)\n",
    "roc_auc = roc_auc_score(y_test, y_probs)\n",
    "\n",
    "plt.figure(figsize=(10, 6))\n",
    "plt.plot(fpr, tpr, label=f'Logistic Regression (AUC = {roc_auc:.2f})')\n",
    "plt.plot([0, 1], [0, 1], 'k--', label='Random Guess')\n",
    "plt.xlabel('False Positive Rate (FPR)')\n",
    "plt.ylabel('True Positive Rate (TPR)')\n",
    "plt.title('ROC Curve')\n",
    "plt.legend(loc='lower right')\n",
    "plt.show()"
   ],
   "metadata": {
    "colab": {
     "base_uri": "https://localhost:8080/",
     "height": 564
    },
    "id": "uRRqB8Z8w7IV",
    "outputId": "87278dd2-314d-4a90-e83d-ce764bcbf96e",
    "ExecuteTime": {
     "end_time": "2024-09-02T12:58:35.984585Z",
     "start_time": "2024-09-02T12:58:35.780645Z"
    }
   },
   "execution_count": 49,
   "outputs": [
    {
     "data": {
      "text/plain": "<Figure size 1000x600 with 1 Axes>",
      "image/png": "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"
     },
     "metadata": {},
     "output_type": "display_data"
    }
   ]
  },
  {
   "cell_type": "markdown",
   "source": [
    "### Determine the best threshold parameter"
   ],
   "metadata": {
    "id": "lo76CbUtpDxV"
   }
  },
  {
   "cell_type": "code",
   "source": [
    "# calculate the distance to the top-left corner (0, 1) for each threshold\n",
    "distances = np.sqrt((1 - tpr) ** 2 + fpr ** 2)\n",
    "\n",
    "# find the index of the smallest distance\n",
    "optimal_index = np.argmin(distances)\n",
    "\n",
    "# get the optimal threshold\n",
    "optimal_threshold = thresholds[optimal_index]\n",
    "optimal_threshold"
   ],
   "metadata": {
    "colab": {
     "base_uri": "https://localhost:8080/"
    },
    "id": "Iqim_P7cVYkh",
    "outputId": "5ac187cf-8d87-44fc-e476-8ddaa73a6f6f",
    "ExecuteTime": {
     "end_time": "2024-09-02T12:58:40.699441Z",
     "start_time": "2024-09-02T12:58:40.694676Z"
    }
   },
   "execution_count": 50,
   "outputs": [
    {
     "data": {
      "text/plain": "0.4675013198258117"
     },
     "execution_count": 50,
     "metadata": {},
     "output_type": "execute_result"
    }
   ]
  },
  {
   "cell_type": "markdown",
   "source": [
    "### Find the TPR, FPR of this threshold"
   ],
   "metadata": {
    "id": "CqHqAc8spWYP"
   }
  },
  {
   "cell_type": "code",
   "source": [
    "print(fpr[optimal_index])\n",
    "print(tpr[optimal_index])"
   ],
   "metadata": {
    "id": "MZNLrXNCpVQA",
    "ExecuteTime": {
     "end_time": "2024-09-02T12:58:49.723853Z",
     "start_time": "2024-09-02T12:58:49.718856Z"
    }
   },
   "execution_count": 51,
   "outputs": [
    {
     "name": "stdout",
     "output_type": "stream",
     "text": [
      "0.3218390804597701\n",
      "0.6373056994818653\n"
     ]
    }
   ]
  },
  {
   "cell_type": "code",
   "outputs": [],
   "source": [],
   "metadata": {
    "collapsed": false
   }
  }
 ]
>>>>>>> Stashed changes
}
